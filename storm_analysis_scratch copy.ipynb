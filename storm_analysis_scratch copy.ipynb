{
 "cells": [
  {
   "cell_type": "code",
   "execution_count": 11,
   "metadata": {},
   "outputs": [],
   "source": [
    "import pandas as pd"
   ]
  },
  {
   "cell_type": "code",
   "execution_count": 7,
   "metadata": {},
   "outputs": [],
   "source": [
    "def get_sheet(wkbk):\n",
    "    xls = pd.ExcelFile(wkbk)\n",
    "    sheet_names = xls.sheet_names\n",
    "    data_sheet_ind = sheet_names.index('Sheet1')\n",
    "\n",
    "    if data_sheet_ind > 0:\n",
    "        targ_sheet = sheet_names[data_sheet_ind - 1]\n",
    "        targ_df = pd.read_excel(wkbk, sheet_name=targ_sheet)\n",
    "        return targ_df\n",
    "    else:\n",
    "        return 'oops could not convert the df'"
   ]
  },
  {
   "cell_type": "code",
   "execution_count": 13,
   "metadata": {},
   "outputs": [],
   "source": [
    "0### Getting data from other storms\n",
    "\n",
    "wkbks = [\n",
    "    'odor_scrubber1_handler.xlsx_BI_ready.xlsx',\n",
    "    'odor_scrubber2_handler.xlsx_BI_ready.xlsx',\n",
    "    'odor_scrubber3_handler.xlsx_BI_ready.xlsx',\n",
    "    'odor_scrubber4_handler.xlsx_BI_ready.xlsx',\n",
    "]\n",
    "\n",
    "dfs = []\n",
    "for wkbk in wkbks:\n",
    "    wkbk_df = pd.read_excel(wkbk)\n",
    "    dfs.append(wkbk_df)\n",
    "\n",
    "\n",
    "master_df = pd.concat(dfs, axis=0)\n"
   ]
  },
  {
   "cell_type": "code",
   "execution_count": 14,
   "metadata": {},
   "outputs": [
    {
     "name": "stdout",
     "output_type": "stream",
     "text": [
      "['01-29' '01-30' '01-31' '02-01' '02-02' '02-03' '02-04' '02-05' '02-06'\n",
      " '02-07' '02-08' '02-09' '02-10' '02-11' '02-12' '02-13' '02-14' '02-15'\n",
      " '02-16' '02-17' '02-18' '02-19' '02-20' '02-21' '02-22' '02-23' '02-24'\n",
      " '02-25' '02-26' '02-27' '02-28' '03-01' '03-02' '03-03' '03-04' '03-05'\n",
      " '03-06' '03-07' '03-08' '03-09' '03-10' '03-11' '03-12' '03-13' '03-14'\n",
      " '03-15' '03-16' '03-17' '03-18' '03-19' '03-20' '03-21' '03-22' '03-23'\n",
      " '03-24' '03-25' '03-26' '03-27' '03-28' '03-29' '03-30' '04-01' '04-02'\n",
      " '04-03' '04-04' '04-05' '04-06' '04-07' '04-08' '04-09' '04-10' '04-11'\n",
      " '04-12' '04-13' '04-14' '04-15' '04-16' '04-17' '04-18' '04-19' '04-20'\n",
      " '04-21' '04-22' '04-23' '04-24' '04-25' '04-26' '04-27' '04-28' '04-29'\n",
      " '04-30' '05-01' '05-02' '05-03' '05-04' '05-05' '05-06' '05-07' '05-08'\n",
      " '05-09' '05-10' '05-11' '05-12' '05-13' '05-14' '05-15' '05-16' '05-17'\n",
      " '05-18' '05-19' '05-20' '05-21' '05-22' '05-23' '05-24' '05-25' '05-26'\n",
      " '05-27' '05-28' '05-29' '05-30' '05-31' '06-01' '06-02' '06-03' '06-04'\n",
      " '06-05' '06-06' '06-07' '06-08' '06-09' '06-10' '06-11' '06-12' '06-13'\n",
      " '06-14' '06-15' '06-16' '06-17' '06-18' '06-19' '06-20' '06-21' '06-22'\n",
      " '06-23' '06-24' '06-25' '06-26' '06-27' '06-28' '06-29' '06-30' '07-01'\n",
      " '07-02' '07-03' '07-04' '07-05' '07-06' '07-07' '07-08' '07-09' '07-10'\n",
      " '07-11' '07-12' '07-13' '07-14' '07-15' '07-16' '07-17' '07-18' '07-19'\n",
      " '07-20' '07-21' '07-22' '07-23' '07-24' '07-25' '07-26' '07-27' '07-28'\n",
      " '07-29' '07-30' '07-31' '08-02' '08-03' '08-04' '08-05' '08-06' '08-07'\n",
      " '08-08' '08-09' '08-10' '08-11' '08-12' '08-13' '08-14' '08-15' '08-16'\n",
      " '08-17' '08-18' '08-19' '08-20' '08-21' '08-22' '08-23' '08-24' '08-25'\n",
      " '08-26' '08-27' '08-28' '08-29' '08-30' '08-31' '09-02' '09-03' '09-04'\n",
      " '09-05' '09-06' '09-07' '09-08' '09-09' '09-10' '09-11' '09-12' '09-13'\n",
      " '09-14' '09-15' '09-16' '09-17' '09-18' '09-19' '09-20' '09-21' '09-22'\n",
      " '09-23' '09-24' '09-25' '09-26' '09-27' '09-28' '09-29' '09-30' '10-02'\n",
      " '10-03' '10-04' '10-05' '10-06' '10-07' '10-08' '10-09' '10-10' '10-11'\n",
      " '10-12' '10-13' '10-14' '10-15' '10-16' '10-17' '10-18' '10-19' '10-20'\n",
      " '10-21' '10-22' '10-23' '10-24' '10-25' '10-26' '10-27' '10-28' '10-29'\n",
      " '10-30' '10-31' '11-01' '11-02' '11-03' '11-04' '11-05' '11-06' '11-07'\n",
      " '11-08' '11-09' '11-10' '11-11' '11-12' '11-13' '11-14' '11-15' '11-16'\n",
      " '11-17' '11-18' '11-19' '11-20' '11-21' '11-22' '11-23' '11-24' '11-25'\n",
      " '11-26' '11-27' '11-28' '11-29' '11-30' '12-02' '12-03' '12-04' '12-05'\n",
      " '12-06' '12-07' '12-08' '12-09' '12-10' '12-11' '12-12' '12-13' '12-14'\n",
      " '12-15' '12-16' '12-17' '12-18' '12-19' '12-20' '12-21' '12-22' '12-23'\n",
      " '12-24' '12-25' '12-26' '12-27' '12-28' '12-29' '12-30' '12-31' '01-01'\n",
      " '01-02' '01-03' '01-04' '01-05' '01-06' '01-07' '01-08' '01-09' '01-10'\n",
      " '01-11' '01-12' '01-13' '01-14' '01-15' '01-16' '01-17' '01-18' '01-19'\n",
      " '01-20' '01-21' '01-22' '01-23' '01-24' '01-25' '01-26' '01-27' '01-28'\n",
      " '03-31' '09-01' '10-01' '12-01' '08-01']\n"
     ]
    }
   ],
   "source": [
    "master_df['date/time'] = pd.to_datetime(master_df['date/time'])\n",
    "\n",
    "master_df_dates = master_df['date/time'].dt.strftime('%m-%d')\n",
    "print(master_df_dates.unique())"
   ]
  },
  {
   "cell_type": "code",
   "execution_count": null,
   "metadata": {},
   "outputs": [],
   "source": [
    "\n"
   ]
  },
  {
   "cell_type": "code",
   "execution_count": null,
   "metadata": {},
   "outputs": [],
   "source": [
    "df_1_10 = pd.read_excel('CEPT_storm_analysis_1.6_to_1.10.xlsx_BI_ready.xlsx')\n"
   ]
  },
  {
   "cell_type": "code",
   "execution_count": 103,
   "metadata": {},
   "outputs": [
    {
     "name": "stdout",
     "output_type": "stream",
     "text": [
      "['CEPT WID3 (EAST) Supply FLOW', 'HIDC-OF 3 SODIUM BS FLOW 3.1 PV', 'HW - Peak WW channel Flow (Calculated)', 'CEPT WID2 (WEST) Supply FLOW', 'WWSF FLOWRATE (calculated) (F_CV)']\n"
     ]
    }
   ],
   "source": [
    "print(list(set(df_1_10.columns) - set(master_df.columns)))"
   ]
  },
  {
   "cell_type": "markdown",
   "metadata": {},
   "source": [
    "### combining all dates into a master dataframe\n",
    "\n"
   ]
  },
  {
   "cell_type": "markdown",
   "metadata": {},
   "source": [
    "# Setting up the various graphs for the reports"
   ]
  },
  {
   "cell_type": "markdown",
   "metadata": {},
   "source": [
    "### Main Graph"
   ]
  },
  {
   "cell_type": "code",
   "execution_count": 112,
   "metadata": {},
   "outputs": [],
   "source": [
    "\n",
    "main_graph_df = master_df[[\n",
    "                    # x-axis\n",
    "                    'date/time', \n",
    "                    \n",
    "                    # Y-axis\n",
    "                    'CEPT Treated Flow', \n",
    "                    'CBWTP Flow in MGD', \n",
    "                    'Secondary Effluent Flow In MGD',\n",
    "\n",
    "                    # secondary Y-axis \n",
    "                    'HIDC-OF 1 pH PV', \n",
    "                    'HIDC-OF 3 pH PV', \n",
    "                    'IPS - Influent pH']]\n",
    "\n",
    "main_graph_df = pd.DataFrame(main_graph_df)\n",
    "\n",
    "for col in main_graph_df.columns:\n",
    "    if col != 'date/time':\n",
    "        main_graph_df[col] = pd.to_numeric(main_graph_df[col], errors='coerce').fillna(0)\n",
    "main_graph_df.to_excel('main_graph_df_test.xlsx')\n",
    "\n",
    "\n"
   ]
  },
  {
   "cell_type": "code",
   "execution_count": 104,
   "metadata": {},
   "outputs": [],
   "source": [
    "\n",
    "main_graph_df = master_df[[\n",
    "                    # x-axis\n",
    "                    'date/time', \n",
    "                    \n",
    "                    # Y-axis\n",
    "                    'CEPT Treated Flow', \n",
    "                    'CBWTP Flow in MGD', \n",
    "                    'Secondary Effluent Flow In MGD',\n",
    "\n",
    "                    # secondary Y-axis \n",
    "                    'HIDC-OF 1 pH PV', \n",
    "                    'HIDC-OF 3 pH PV', \n",
    "                    'IPS - Influent pH']]\n",
    "\n",
    "main_graph_df = pd.DataFrame(main_graph_df)\n",
    "main_graph_df.to_excel('main_graph_df_test.xlsx')"
   ]
  },
  {
   "cell_type": "markdown",
   "metadata": {},
   "source": [
    "### Flow Graph"
   ]
  },
  {
   "cell_type": "code",
   "execution_count": 32,
   "metadata": {},
   "outputs": [],
   "source": [
    "flow_graph_df = df_1_10[[\n",
    "                    'date/time',\n",
    "                    'HIDC-PL 1 CHLOR EFFLUENT FLOW PV', \n",
    "                    'HIDC-PL 3 CHLOR EFFLUENT FLOW PV', \n",
    "                    'HIDC-DECHLOR SAMPLE XOVER VLV CLOSED']]\n",
    "\n",
    "flow_graph_df = pd.DataFrame(flow_graph_df)\n",
    "flow_graph_df.to_excel('flow_graph_df.xlsx')"
   ]
  },
  {
   "cell_type": "markdown",
   "metadata": {},
   "source": [
    "### Dose Graph"
   ]
  },
  {
   "cell_type": "code",
   "execution_count": 33,
   "metadata": {},
   "outputs": [],
   "source": [
    "OF01_SBS_dose = (df_1_10['HIDC-OF 1 SODIUM BS FLOW 1.1 PV'] + df_1_10['HIDC-OF 1 SODIUM BS FLOW 1.2 PV'])\n",
    "OF1_SBS_normalized_dose = (OF01_SBS_dose / df_1_10['HIDC-PL 1 CHLOR EFFLUENT FLOW PV'])\n",
    "\n",
    "\n",
    "OF03_SBS_dose = (df_1_10['HIDC-OF 3 SODIUM BS FLOW 3.1 PV '] + df_1_10['HIDC-OF 3 SODIUM BS FLOW 3.2 PV'])\n",
    "\n",
    "# Ask heather about this, it seems weird\n",
    "OF3_SBS_normalized_dose = (OF03_SBS_dose / df_1_10['HIDC-PL 3 CHLOR EFFLUENT FLOW PV'])\n",
    "\n",
    "# df_1_10['date/time'] = pd.to_datetime(df_1_10['date/time'])\n",
    "dose_graph_df = [\n",
    "    # df_1_10['date/time'], \n",
    "    OF01_SBS_dose, \n",
    "    OF03_SBS_dose, \n",
    "    OF1_SBS_normalized_dose, \n",
    "    OF3_SBS_normalized_dose]\n",
    "dose_graph_df = pd.DataFrame(dose_graph_df)\n",
    "dose_graph_df = dose_graph_df.transpose()\n",
    "\n",
    "dose_graph_df['date/time'] = df_1_10['date/time']\n",
    "dose_graph_col_names = ['OF01_SBS_dose', 'OF03_SBS_dose', 'OF1_SBS_normalized_dose', 'OF3_SBS_normalized_dose', 'date/time']\n",
    "dose_graph_df.columns = dose_graph_col_names\n",
    "\n",
    "dose_graph_df.to_excel('dose_graph_df.xlsx')"
   ]
  },
  {
   "cell_type": "code",
   "execution_count": 34,
   "metadata": {},
   "outputs": [
    {
     "data": {
      "text/html": [
       "<div>\n",
       "<style scoped>\n",
       "    .dataframe tbody tr th:only-of-type {\n",
       "        vertical-align: middle;\n",
       "    }\n",
       "\n",
       "    .dataframe tbody tr th {\n",
       "        vertical-align: top;\n",
       "    }\n",
       "\n",
       "    .dataframe thead th {\n",
       "        text-align: right;\n",
       "    }\n",
       "</style>\n",
       "<table border=\"1\" class=\"dataframe\">\n",
       "  <thead>\n",
       "    <tr style=\"text-align: right;\">\n",
       "      <th></th>\n",
       "      <th>OF01_SBS_dose</th>\n",
       "      <th>OF03_SBS_dose</th>\n",
       "      <th>OF1_SBS_normalized_dose</th>\n",
       "      <th>OF3_SBS_normalized_dose</th>\n",
       "      <th>date/time</th>\n",
       "    </tr>\n",
       "  </thead>\n",
       "  <tbody>\n",
       "    <tr>\n",
       "      <th>0</th>\n",
       "      <td>1.329350</td>\n",
       "      <td>13.490179</td>\n",
       "      <td>0.046206</td>\n",
       "      <td>0.370258</td>\n",
       "      <td>2024-01-06 00:00:59</td>\n",
       "    </tr>\n",
       "    <tr>\n",
       "      <th>1</th>\n",
       "      <td>0.568961</td>\n",
       "      <td>13.239905</td>\n",
       "      <td>0.019776</td>\n",
       "      <td>0.362767</td>\n",
       "      <td>2024-01-06 00:01:59</td>\n",
       "    </tr>\n",
       "    <tr>\n",
       "      <th>2</th>\n",
       "      <td>0.142128</td>\n",
       "      <td>13.280378</td>\n",
       "      <td>0.004354</td>\n",
       "      <td>0.363255</td>\n",
       "      <td>2024-01-06 00:02:59</td>\n",
       "    </tr>\n",
       "    <tr>\n",
       "      <th>3</th>\n",
       "      <td>1.411295</td>\n",
       "      <td>12.982520</td>\n",
       "      <td>0.043238</td>\n",
       "      <td>0.354503</td>\n",
       "      <td>2024-01-06 00:03:59</td>\n",
       "    </tr>\n",
       "    <tr>\n",
       "      <th>4</th>\n",
       "      <td>0.708461</td>\n",
       "      <td>13.033333</td>\n",
       "      <td>0.066286</td>\n",
       "      <td>0.355285</td>\n",
       "      <td>2024-01-06 00:04:59</td>\n",
       "    </tr>\n",
       "    <tr>\n",
       "      <th>...</th>\n",
       "      <td>...</td>\n",
       "      <td>...</td>\n",
       "      <td>...</td>\n",
       "      <td>...</td>\n",
       "      <td>...</td>\n",
       "    </tr>\n",
       "    <tr>\n",
       "      <th>7195</th>\n",
       "      <td>11.218000</td>\n",
       "      <td>12.329210</td>\n",
       "      <td>0.244241</td>\n",
       "      <td>0.245571</td>\n",
       "      <td>2024-01-10 23:55:59</td>\n",
       "    </tr>\n",
       "    <tr>\n",
       "      <th>7196</th>\n",
       "      <td>9.233334</td>\n",
       "      <td>12.330000</td>\n",
       "      <td>0.201031</td>\n",
       "      <td>0.246382</td>\n",
       "      <td>2024-01-10 23:56:59</td>\n",
       "    </tr>\n",
       "    <tr>\n",
       "      <th>7197</th>\n",
       "      <td>6.789333</td>\n",
       "      <td>11.378000</td>\n",
       "      <td>0.147819</td>\n",
       "      <td>0.227925</td>\n",
       "      <td>2024-01-10 23:57:59</td>\n",
       "    </tr>\n",
       "    <tr>\n",
       "      <th>7198</th>\n",
       "      <td>4.418667</td>\n",
       "      <td>12.250000</td>\n",
       "      <td>0.096204</td>\n",
       "      <td>0.245393</td>\n",
       "      <td>2024-01-10 23:58:59</td>\n",
       "    </tr>\n",
       "    <tr>\n",
       "      <th>7199</th>\n",
       "      <td>2.980000</td>\n",
       "      <td>11.960000</td>\n",
       "      <td>0.064881</td>\n",
       "      <td>0.239583</td>\n",
       "      <td>2024-01-10 23:59:59</td>\n",
       "    </tr>\n",
       "  </tbody>\n",
       "</table>\n",
       "<p>7200 rows × 5 columns</p>\n",
       "</div>"
      ],
      "text/plain": [
       "      OF01_SBS_dose  OF03_SBS_dose  OF1_SBS_normalized_dose  \\\n",
       "0          1.329350      13.490179                 0.046206   \n",
       "1          0.568961      13.239905                 0.019776   \n",
       "2          0.142128      13.280378                 0.004354   \n",
       "3          1.411295      12.982520                 0.043238   \n",
       "4          0.708461      13.033333                 0.066286   \n",
       "...             ...            ...                      ...   \n",
       "7195      11.218000      12.329210                 0.244241   \n",
       "7196       9.233334      12.330000                 0.201031   \n",
       "7197       6.789333      11.378000                 0.147819   \n",
       "7198       4.418667      12.250000                 0.096204   \n",
       "7199       2.980000      11.960000                 0.064881   \n",
       "\n",
       "      OF3_SBS_normalized_dose           date/time  \n",
       "0                    0.370258 2024-01-06 00:00:59  \n",
       "1                    0.362767 2024-01-06 00:01:59  \n",
       "2                    0.363255 2024-01-06 00:02:59  \n",
       "3                    0.354503 2024-01-06 00:03:59  \n",
       "4                    0.355285 2024-01-06 00:04:59  \n",
       "...                       ...                 ...  \n",
       "7195                 0.245571 2024-01-10 23:55:59  \n",
       "7196                 0.246382 2024-01-10 23:56:59  \n",
       "7197                 0.227925 2024-01-10 23:57:59  \n",
       "7198                 0.245393 2024-01-10 23:58:59  \n",
       "7199                 0.239583 2024-01-10 23:59:59  \n",
       "\n",
       "[7200 rows x 5 columns]"
      ]
     },
     "execution_count": 34,
     "metadata": {},
     "output_type": "execute_result"
    }
   ],
   "source": [
    "dose_graph_df"
   ]
  },
  {
   "cell_type": "code",
   "execution_count": null,
   "metadata": {},
   "outputs": [],
   "source": []
  },
  {
   "cell_type": "markdown",
   "metadata": {},
   "source": [
    "### Residuals Graph"
   ]
  },
  {
   "cell_type": "code",
   "execution_count": 35,
   "metadata": {},
   "outputs": [
    {
     "name": "stdout",
     "output_type": "stream",
     "text": [
      "date/time\n",
      "CBWTP Flow in MGD\n",
      "CEPT FeCl Feed All Pmps YDAY FLOW Total (F_CV)\n",
      "CEPT FeCl Feed Pmp 1 FLOW\n",
      "CEPT FeCl Feed Pmp 2 FLOW\n",
      "CEPT FeCl Feed Pmp 3 FLOW\n",
      "CEPT Ferric Chloride Dose\n",
      "CEPT Headworks Outlet Structure TSS\n",
      "CEPT Poly Feed Pmps YDAY FLOW Total (F_CV)\n",
      "CEPT Polymer Dose\n",
      "CEPT Treated Flow\n",
      "CEPT WID2 (WEST) Supply FLOW\n",
      "CEPT WID3 (EAST) Supply FLOW\n",
      "CEPT WWCL 4 North TSS\n",
      "CEPT WWCL 4 South TSS\n",
      "CEPT WWCL 5 North TSS\n",
      "CEPT WWCL 5 South TSS\n",
      "FV-784 WWEFCS Ch. A Valve Position\n",
      "FV-785 WWEFCS Ch.B Gate Position\n",
      "HIDC-DECHLOR SAMPLE XOVER VLV CLOSED\n",
      "HIDC-MB 1 OF ISO GATE POSITION PV\n",
      "HIDC-MB 3 OF ISO GATE POSITION PV\n",
      "HIDC-Mb 1/3 XOVER ISO GATE POSITION PV\n",
      "HIDC-OF 1 SELECTED CL2 RESIDUAL PV\n",
      "HIDC-OF 1 SO3 RESIDUAL A PV\n",
      "HIDC-OF 1 SO3 RESIDUAL B PV\n",
      "HIDC-OF 1 SO3 RESIDUAL C PV\n",
      "HIDC-OF 1 SODIUM BS FLOW 1.1 PV\n",
      "HIDC-OF 1 SODIUM BS FLOW 1.2 PV\n",
      "HIDC-OF 1 pH PV\n",
      "HIDC-OF 3 CL2 RESIDUAL A PV\n",
      "HIDC-OF 3 SO3 RESIDUAL A PV\n",
      "HIDC-OF 3 SO3 RESIDUAL B PV\n",
      "HIDC-OF 3 SO3 RESIDUAL C PV\n",
      "HIDC-OF 3 SODIUM BS FLOW 3.1 PV\n",
      "HIDC-OF 3 SODIUM BS FLOW 3.2 PV\n",
      "HIDC-OF 3 pH PV\n",
      "HIDC-PL 1 CALC PPH CL2 ENTERING MB 1\n",
      "HIDC-PL 1 CHLOR EFFLUENT FLOW PV\n",
      "HIDC-PL 1 CHLORINE RESIDUAL A PV\n",
      "HIDC-PL 1 CHLORINE RESIDUAL B PV\n",
      "HIDC-PL 1 CHLORINE RESIDUAL C PV\n",
      "HIDC-PL 3 CALC PPH CL2 ENTERING MB 1\n",
      "HIDC-PL 3 CHLOR EFFLUENT FLOW PV\n",
      "HIDC-PL 3 CHLOR SAMPLE FLOW PV\n",
      "HIDC-PL 3 CHLORINE RESIDUAL A PV\n",
      "HIDC-PL 3 CHLORINE RESIDUAL B PV\n",
      "HIDC-PL 3 CHLORINE RESIDUAL C PV\n",
      "HW - Peak WW channel Flow (Calculated)\n",
      "IPS - Influent pH\n",
      "PE Resid. Analyzer 4(A)\n",
      "PE Resid. Analyzer 5(B)\n",
      "PE Resid. Analyzer 6(C)\n",
      "SE Resid. Analyzer 1(A)\n",
      "SE Resid. Analyzer 2(B)\n",
      "SE Resid. Analyzer 3(C)\n",
      "SEDI - EFFLUENT CHANNEL LEVEL\n",
      "Secondary Effluent Flow In MGD\n",
      "WWCL Effluent Channel Level Tanks 1 & 2\n",
      "WWCL Effluent Channel Level Tanks 3 & 4\n",
      "WWCL Effluent Channel Level Tanks 5 & 6\n",
      "WWCL Effluent Channel Level Tanks 7 & 8\n",
      "WWCL Tank 1 Level\n",
      "WWCL Tank 2 Level\n",
      "WWCL Tank 3 Level\n",
      "WWCL Tank 4 Level\n",
      "WWCL Tank 5 Level\n",
      "WWCL Tank 6 Level\n",
      "WWCL Tank 7 Level\n",
      "WWCL Tank 8 Level\n",
      "WWEFCS LEVEL (F_CV)\n",
      "WWSF FLOWRATE (calculated) (F_CV)\n"
     ]
    }
   ],
   "source": [
    "import pprint as pp\n",
    "\n",
    "df_1_10.columns = df_1_10.columns.str.strip()\n",
    "\n",
    "for col in df_1_10.columns:\n",
    "    print(col)"
   ]
  },
  {
   "cell_type": "code",
   "execution_count": 36,
   "metadata": {},
   "outputs": [],
   "source": [
    "DW_Cl2_residual_CS = (df_1_10['SE Resid. Analyzer 1(A)'] + df_1_10['SE Resid. Analyzer 2(B)'] + df_1_10['SE Resid. Analyzer 3(C)']) - df_1_10[['SE Resid. Analyzer 1(A)', 'SE Resid. Analyzer 2(B)', 'SE Resid. Analyzer 3(C)']].min(axis=1) - df_1_10[['SE Resid. Analyzer 1(A)', 'SE Resid. Analyzer 2(B)', 'SE Resid. Analyzer 3(C)']].max(axis=1)\n",
    "WWCL_Cl2_residual_CS = (df_1_10['PE Resid. Analyzer 4(A)'] + df_1_10['PE Resid. Analyzer 5(B)'] + df_1_10['PE Resid. Analyzer 6(C)']) - df_1_10[['PE Resid. Analyzer 4(A)', 'PE Resid. Analyzer 5(B)', 'PE Resid. Analyzer 6(C)']].min(axis=1) - df_1_10[['PE Resid. Analyzer 4(A)', 'PE Resid. Analyzer 5(B)', 'PE Resid. Analyzer 6(C)']].max(axis=1)\n",
    "\n",
    "MB1_Cl2_residual = (df_1_10['HIDC-PL 1 CHLORINE RESIDUAL A PV'] + df_1_10['HIDC-PL 1 CHLORINE RESIDUAL B PV'] + df_1_10['HIDC-PL 1 CHLORINE RESIDUAL C PV'])- df_1_10[['HIDC-PL 1 CHLORINE RESIDUAL A PV', 'HIDC-PL 1 CHLORINE RESIDUAL B PV', 'HIDC-PL 1 CHLORINE RESIDUAL C PV']].min(axis=1) - df_1_10[['HIDC-PL 1 CHLORINE RESIDUAL A PV', 'HIDC-PL 1 CHLORINE RESIDUAL B PV', 'HIDC-PL 1 CHLORINE RESIDUAL C PV']].max(axis=1)\n",
    "MB3_Cl2_residual = (df_1_10['HIDC-PL 3 CHLORINE RESIDUAL A PV'] + df_1_10['HIDC-PL 3 CHLORINE RESIDUAL B PV'] + df_1_10['HIDC-PL 3 CHLORINE RESIDUAL C PV'])- df_1_10[['HIDC-PL 3 CHLORINE RESIDUAL A PV', 'HIDC-PL 3 CHLORINE RESIDUAL B PV', 'HIDC-PL 3 CHLORINE RESIDUAL C PV']].min(axis=1) - df_1_10[['HIDC-PL 1 CHLORINE RESIDUAL A PV', 'HIDC-PL 1 CHLORINE RESIDUAL B PV', 'HIDC-PL 1 CHLORINE RESIDUAL C PV']].max(axis=1)\n",
    "\n",
    "\n",
    "\n",
    "OF01_Cl2_residual = df_1_10['HIDC-OF 1 SELECTED CL2 RESIDUAL PV']\n",
    "OF3_Cl2_residual = df_1_10['HIDC-OF 3 CL2 RESIDUAL A PV']\n",
    "\n",
    "residuals_graph_df = [\n",
    "    DW_Cl2_residual_CS, \n",
    "    WWCL_Cl2_residual_CS, \n",
    "    MB1_Cl2_residual, \n",
    "    MB3_Cl2_residual, \n",
    "    OF01_Cl2_residual, \n",
    "    OF3_Cl2_residual,\n",
    "    ]\n",
    "\n",
    "residuals_graph_df = pd.DataFrame(residuals_graph_df)\n",
    "residuals_graph_df = residuals_graph_df.transpose()\n",
    "residuals_graph_df['date/time'] = df_1_10['date/time']\n",
    "residuals_graph_df.columns = ['DW_Cl2_residual_CS', 'WWCL_Cl2_residual_CS', 'MB1_Cl2_residual', 'MB3_Cl2_residual', 'OF01_Cl2_residual', 'OF3_Cl2_residual', 'date/time']\n",
    "\n",
    "\n",
    "residuals_graph_df.to_excel('residuals_graph_df.xlsx')\n",
    "\n"
   ]
  },
  {
   "cell_type": "markdown",
   "metadata": {},
   "source": [
    "### TSS Graph"
   ]
  },
  {
   "cell_type": "code",
   "execution_count": 37,
   "metadata": {},
   "outputs": [],
   "source": [
    "WWCL4N_TSS = df_1_10['CEPT WWCL 4 North TSS']\n",
    "WWCL4S_TSS = df_1_10['CEPT WWCL 4 South TSS']\n",
    "\n",
    "WWCL5N_TSS = df_1_10['CEPT WWCL 5 North TSS']\n",
    "WWCL5S_TSS = df_1_10['CEPT WWCL 5 South TSS']\n",
    "\n",
    "HW_TSS = df_1_10['CEPT Headworks Outlet Structure TSS']\n",
    "\n",
    "TSS_graph_df = [\n",
    "    WWCL4N_TSS, \n",
    "    WWCL4S_TSS, \n",
    "    WWCL5N_TSS, \n",
    "    WWCL5S_TSS, HW_TSS]\n",
    "\n",
    "TSS_graph_df = pd.DataFrame(TSS_graph_df)\n",
    "TSS_graph_df = TSS_graph_df.transpose()\n",
    "TSS_graph_df['date/time'] = df_1_10['date/time']\n",
    "TSS_graph_df.to_excel('TSS_graph_df.xlsx')\n"
   ]
  },
  {
   "cell_type": "markdown",
   "metadata": {},
   "source": [
    "### Ferric Dose Graph"
   ]
  },
  {
   "cell_type": "code",
   "execution_count": 38,
   "metadata": {},
   "outputs": [],
   "source": [
    "FeCl3_mg_per_l = df_1_10['CEPT Ferric Chloride Dose']\n",
    "\n",
    "Ferric_GPH = (df_1_10['CEPT FeCl Feed Pmp 1 FLOW'] + df_1_10['CEPT FeCl Feed Pmp 2 FLOW'] +df_1_10['CEPT FeCl Feed Pmp 3 FLOW']) * 60\n",
    "FeCl3_GPM_per_MGD = Ferric_GPH / df_1_10['CBWTP Flow in MGD']\n",
    "\n",
    "ferric_df = [\n",
    "    FeCl3_mg_per_l,\n",
    "    FeCl3_GPM_per_MGD\n",
    "]\n",
    "ferric_df = pd.DataFrame(ferric_df)\n",
    "ferric_df = ferric_df.transpose()\n",
    "ferric_df['date/time'] = df_1_10['date/time']\n",
    "ferric_df.columns = ['FeCl3_mg_per_l','FeCl3_GPM_per_MGD', 'date/time']\n",
    "ferric_df.to_excel('ferric_df.xlsx')"
   ]
  },
  {
   "cell_type": "markdown",
   "metadata": {},
   "source": [
    "### WWCL Flow graph"
   ]
  },
  {
   "cell_type": "code",
   "execution_count": 39,
   "metadata": {},
   "outputs": [
    {
     "ename": "PermissionError",
     "evalue": "[Errno 13] Permission denied: 'wwcl_flow_df.xlsx'",
     "output_type": "error",
     "traceback": [
      "\u001b[1;31m---------------------------------------------------------------------------\u001b[0m",
      "\u001b[1;31mPermissionError\u001b[0m                           Traceback (most recent call last)",
      "Cell \u001b[1;32mIn[39], line 36\u001b[0m\n\u001b[0;32m     25\u001b[0m wwcl_flow_df[\u001b[38;5;124m'\u001b[39m\u001b[38;5;124mdate/time\u001b[39m\u001b[38;5;124m'\u001b[39m] \u001b[38;5;241m=\u001b[39m df_1_10[\u001b[38;5;124m'\u001b[39m\u001b[38;5;124mdate/time\u001b[39m\u001b[38;5;124m'\u001b[39m]\n\u001b[0;32m     26\u001b[0m wwcl_flow_df\u001b[38;5;241m.\u001b[39mcolumns \u001b[38;5;241m=\u001b[39m [\u001b[38;5;124m'\u001b[39m\u001b[38;5;124mWWSF FLOWRATE (calculated) (F_CV)\u001b[39m\u001b[38;5;124m'\u001b[39m, \n\u001b[0;32m     27\u001b[0m                         \u001b[38;5;124m'\u001b[39m\u001b[38;5;124mCEPT WID2 (WEST) Supply FLOW\u001b[39m\u001b[38;5;124m'\u001b[39m,\n\u001b[0;32m     28\u001b[0m                         \u001b[38;5;124m'\u001b[39m\u001b[38;5;124mCEPT WID3 (EAST) Supply FLOW\u001b[39m\u001b[38;5;124m'\u001b[39m, \n\u001b[1;32m   (...)\u001b[0m\n\u001b[0;32m     31\u001b[0m                         \u001b[38;5;124m'\u001b[39m\u001b[38;5;124mpercent_flow_to_CEPT_WWSF\u001b[39m\u001b[38;5;124m'\u001b[39m,\n\u001b[0;32m     32\u001b[0m                         \u001b[38;5;124m'\u001b[39m\u001b[38;5;124mdate/time\u001b[39m\u001b[38;5;124m'\u001b[39m]\n\u001b[1;32m---> 36\u001b[0m \u001b[43mwwcl_flow_df\u001b[49m\u001b[38;5;241;43m.\u001b[39;49m\u001b[43mto_excel\u001b[49m\u001b[43m(\u001b[49m\u001b[38;5;124;43m'\u001b[39;49m\u001b[38;5;124;43mwwcl_flow_df.xlsx\u001b[39;49m\u001b[38;5;124;43m'\u001b[39;49m\u001b[43m)\u001b[49m\n",
      "File \u001b[1;32mc:\\Users\\vdelgado_z\\AppData\\Local\\Programs\\Python\\Python311\\Lib\\site-packages\\pandas\\core\\generic.py:2345\u001b[0m, in \u001b[0;36mNDFrame.to_excel\u001b[1;34m(self, excel_writer, sheet_name, na_rep, float_format, columns, header, index, index_label, startrow, startcol, engine, merge_cells, inf_rep, freeze_panes, storage_options, engine_kwargs)\u001b[0m\n\u001b[0;32m   2332\u001b[0m \u001b[38;5;28;01mfrom\u001b[39;00m \u001b[38;5;21;01mpandas\u001b[39;00m\u001b[38;5;21;01m.\u001b[39;00m\u001b[38;5;21;01mio\u001b[39;00m\u001b[38;5;21;01m.\u001b[39;00m\u001b[38;5;21;01mformats\u001b[39;00m\u001b[38;5;21;01m.\u001b[39;00m\u001b[38;5;21;01mexcel\u001b[39;00m \u001b[38;5;28;01mimport\u001b[39;00m ExcelFormatter\n\u001b[0;32m   2334\u001b[0m formatter \u001b[38;5;241m=\u001b[39m ExcelFormatter(\n\u001b[0;32m   2335\u001b[0m     df,\n\u001b[0;32m   2336\u001b[0m     na_rep\u001b[38;5;241m=\u001b[39mna_rep,\n\u001b[1;32m   (...)\u001b[0m\n\u001b[0;32m   2343\u001b[0m     inf_rep\u001b[38;5;241m=\u001b[39minf_rep,\n\u001b[0;32m   2344\u001b[0m )\n\u001b[1;32m-> 2345\u001b[0m \u001b[43mformatter\u001b[49m\u001b[38;5;241;43m.\u001b[39;49m\u001b[43mwrite\u001b[49m\u001b[43m(\u001b[49m\n\u001b[0;32m   2346\u001b[0m \u001b[43m    \u001b[49m\u001b[43mexcel_writer\u001b[49m\u001b[43m,\u001b[49m\n\u001b[0;32m   2347\u001b[0m \u001b[43m    \u001b[49m\u001b[43msheet_name\u001b[49m\u001b[38;5;241;43m=\u001b[39;49m\u001b[43msheet_name\u001b[49m\u001b[43m,\u001b[49m\n\u001b[0;32m   2348\u001b[0m \u001b[43m    \u001b[49m\u001b[43mstartrow\u001b[49m\u001b[38;5;241;43m=\u001b[39;49m\u001b[43mstartrow\u001b[49m\u001b[43m,\u001b[49m\n\u001b[0;32m   2349\u001b[0m \u001b[43m    \u001b[49m\u001b[43mstartcol\u001b[49m\u001b[38;5;241;43m=\u001b[39;49m\u001b[43mstartcol\u001b[49m\u001b[43m,\u001b[49m\n\u001b[0;32m   2350\u001b[0m \u001b[43m    \u001b[49m\u001b[43mfreeze_panes\u001b[49m\u001b[38;5;241;43m=\u001b[39;49m\u001b[43mfreeze_panes\u001b[49m\u001b[43m,\u001b[49m\n\u001b[0;32m   2351\u001b[0m \u001b[43m    \u001b[49m\u001b[43mengine\u001b[49m\u001b[38;5;241;43m=\u001b[39;49m\u001b[43mengine\u001b[49m\u001b[43m,\u001b[49m\n\u001b[0;32m   2352\u001b[0m \u001b[43m    \u001b[49m\u001b[43mstorage_options\u001b[49m\u001b[38;5;241;43m=\u001b[39;49m\u001b[43mstorage_options\u001b[49m\u001b[43m,\u001b[49m\n\u001b[0;32m   2353\u001b[0m \u001b[43m    \u001b[49m\u001b[43mengine_kwargs\u001b[49m\u001b[38;5;241;43m=\u001b[39;49m\u001b[43mengine_kwargs\u001b[49m\u001b[43m,\u001b[49m\n\u001b[0;32m   2354\u001b[0m \u001b[43m\u001b[49m\u001b[43m)\u001b[49m\n",
      "File \u001b[1;32mc:\\Users\\vdelgado_z\\AppData\\Local\\Programs\\Python\\Python311\\Lib\\site-packages\\pandas\\io\\formats\\excel.py:946\u001b[0m, in \u001b[0;36mExcelFormatter.write\u001b[1;34m(self, writer, sheet_name, startrow, startcol, freeze_panes, engine, storage_options, engine_kwargs)\u001b[0m\n\u001b[0;32m    942\u001b[0m     need_save \u001b[38;5;241m=\u001b[39m \u001b[38;5;28;01mFalse\u001b[39;00m\n\u001b[0;32m    943\u001b[0m \u001b[38;5;28;01melse\u001b[39;00m:\n\u001b[0;32m    944\u001b[0m     \u001b[38;5;66;03m# error: Cannot instantiate abstract class 'ExcelWriter' with abstract\u001b[39;00m\n\u001b[0;32m    945\u001b[0m     \u001b[38;5;66;03m# attributes 'engine', 'save', 'supported_extensions' and 'write_cells'\u001b[39;00m\n\u001b[1;32m--> 946\u001b[0m     writer \u001b[38;5;241m=\u001b[39m \u001b[43mExcelWriter\u001b[49m\u001b[43m(\u001b[49m\u001b[43m  \u001b[49m\u001b[38;5;66;43;03m# type: ignore[abstract]\u001b[39;49;00m\n\u001b[0;32m    947\u001b[0m \u001b[43m        \u001b[49m\u001b[43mwriter\u001b[49m\u001b[43m,\u001b[49m\n\u001b[0;32m    948\u001b[0m \u001b[43m        \u001b[49m\u001b[43mengine\u001b[49m\u001b[38;5;241;43m=\u001b[39;49m\u001b[43mengine\u001b[49m\u001b[43m,\u001b[49m\n\u001b[0;32m    949\u001b[0m \u001b[43m        \u001b[49m\u001b[43mstorage_options\u001b[49m\u001b[38;5;241;43m=\u001b[39;49m\u001b[43mstorage_options\u001b[49m\u001b[43m,\u001b[49m\n\u001b[0;32m    950\u001b[0m \u001b[43m        \u001b[49m\u001b[43mengine_kwargs\u001b[49m\u001b[38;5;241;43m=\u001b[39;49m\u001b[43mengine_kwargs\u001b[49m\u001b[43m,\u001b[49m\n\u001b[0;32m    951\u001b[0m \u001b[43m    \u001b[49m\u001b[43m)\u001b[49m\n\u001b[0;32m    952\u001b[0m     need_save \u001b[38;5;241m=\u001b[39m \u001b[38;5;28;01mTrue\u001b[39;00m\n\u001b[0;32m    954\u001b[0m \u001b[38;5;28;01mtry\u001b[39;00m:\n",
      "File \u001b[1;32mc:\\Users\\vdelgado_z\\AppData\\Local\\Programs\\Python\\Python311\\Lib\\site-packages\\pandas\\io\\excel\\_openpyxl.py:61\u001b[0m, in \u001b[0;36mOpenpyxlWriter.__init__\u001b[1;34m(self, path, engine, date_format, datetime_format, mode, storage_options, if_sheet_exists, engine_kwargs, **kwargs)\u001b[0m\n\u001b[0;32m     57\u001b[0m \u001b[38;5;28;01mfrom\u001b[39;00m \u001b[38;5;21;01mopenpyxl\u001b[39;00m\u001b[38;5;21;01m.\u001b[39;00m\u001b[38;5;21;01mworkbook\u001b[39;00m \u001b[38;5;28;01mimport\u001b[39;00m Workbook\n\u001b[0;32m     59\u001b[0m engine_kwargs \u001b[38;5;241m=\u001b[39m combine_kwargs(engine_kwargs, kwargs)\n\u001b[1;32m---> 61\u001b[0m \u001b[38;5;28;43msuper\u001b[39;49m\u001b[43m(\u001b[49m\u001b[43m)\u001b[49m\u001b[38;5;241;43m.\u001b[39;49m\u001b[38;5;21;43m__init__\u001b[39;49m\u001b[43m(\u001b[49m\n\u001b[0;32m     62\u001b[0m \u001b[43m    \u001b[49m\u001b[43mpath\u001b[49m\u001b[43m,\u001b[49m\n\u001b[0;32m     63\u001b[0m \u001b[43m    \u001b[49m\u001b[43mmode\u001b[49m\u001b[38;5;241;43m=\u001b[39;49m\u001b[43mmode\u001b[49m\u001b[43m,\u001b[49m\n\u001b[0;32m     64\u001b[0m \u001b[43m    \u001b[49m\u001b[43mstorage_options\u001b[49m\u001b[38;5;241;43m=\u001b[39;49m\u001b[43mstorage_options\u001b[49m\u001b[43m,\u001b[49m\n\u001b[0;32m     65\u001b[0m \u001b[43m    \u001b[49m\u001b[43mif_sheet_exists\u001b[49m\u001b[38;5;241;43m=\u001b[39;49m\u001b[43mif_sheet_exists\u001b[49m\u001b[43m,\u001b[49m\n\u001b[0;32m     66\u001b[0m \u001b[43m    \u001b[49m\u001b[43mengine_kwargs\u001b[49m\u001b[38;5;241;43m=\u001b[39;49m\u001b[43mengine_kwargs\u001b[49m\u001b[43m,\u001b[49m\n\u001b[0;32m     67\u001b[0m \u001b[43m\u001b[49m\u001b[43m)\u001b[49m\n\u001b[0;32m     69\u001b[0m \u001b[38;5;66;03m# ExcelWriter replaced \"a\" by \"r+\" to allow us to first read the excel file from\u001b[39;00m\n\u001b[0;32m     70\u001b[0m \u001b[38;5;66;03m# the file and later write to it\u001b[39;00m\n\u001b[0;32m     71\u001b[0m \u001b[38;5;28;01mif\u001b[39;00m \u001b[38;5;124m\"\u001b[39m\u001b[38;5;124mr+\u001b[39m\u001b[38;5;124m\"\u001b[39m \u001b[38;5;129;01min\u001b[39;00m \u001b[38;5;28mself\u001b[39m\u001b[38;5;241m.\u001b[39m_mode:  \u001b[38;5;66;03m# Load from existing workbook\u001b[39;00m\n",
      "File \u001b[1;32mc:\\Users\\vdelgado_z\\AppData\\Local\\Programs\\Python\\Python311\\Lib\\site-packages\\pandas\\io\\excel\\_base.py:1263\u001b[0m, in \u001b[0;36mExcelWriter.__init__\u001b[1;34m(self, path, engine, date_format, datetime_format, mode, storage_options, if_sheet_exists, engine_kwargs)\u001b[0m\n\u001b[0;32m   1259\u001b[0m \u001b[38;5;28mself\u001b[39m\u001b[38;5;241m.\u001b[39m_handles \u001b[38;5;241m=\u001b[39m IOHandles(\n\u001b[0;32m   1260\u001b[0m     cast(IO[\u001b[38;5;28mbytes\u001b[39m], path), compression\u001b[38;5;241m=\u001b[39m{\u001b[38;5;124m\"\u001b[39m\u001b[38;5;124mcompression\u001b[39m\u001b[38;5;124m\"\u001b[39m: \u001b[38;5;28;01mNone\u001b[39;00m}\n\u001b[0;32m   1261\u001b[0m )\n\u001b[0;32m   1262\u001b[0m \u001b[38;5;28;01mif\u001b[39;00m \u001b[38;5;129;01mnot\u001b[39;00m \u001b[38;5;28misinstance\u001b[39m(path, ExcelWriter):\n\u001b[1;32m-> 1263\u001b[0m     \u001b[38;5;28mself\u001b[39m\u001b[38;5;241m.\u001b[39m_handles \u001b[38;5;241m=\u001b[39m \u001b[43mget_handle\u001b[49m\u001b[43m(\u001b[49m\n\u001b[0;32m   1264\u001b[0m \u001b[43m        \u001b[49m\u001b[43mpath\u001b[49m\u001b[43m,\u001b[49m\u001b[43m \u001b[49m\u001b[43mmode\u001b[49m\u001b[43m,\u001b[49m\u001b[43m \u001b[49m\u001b[43mstorage_options\u001b[49m\u001b[38;5;241;43m=\u001b[39;49m\u001b[43mstorage_options\u001b[49m\u001b[43m,\u001b[49m\u001b[43m \u001b[49m\u001b[43mis_text\u001b[49m\u001b[38;5;241;43m=\u001b[39;49m\u001b[38;5;28;43;01mFalse\u001b[39;49;00m\n\u001b[0;32m   1265\u001b[0m \u001b[43m    \u001b[49m\u001b[43m)\u001b[49m\n\u001b[0;32m   1266\u001b[0m \u001b[38;5;28mself\u001b[39m\u001b[38;5;241m.\u001b[39m_cur_sheet \u001b[38;5;241m=\u001b[39m \u001b[38;5;28;01mNone\u001b[39;00m\n\u001b[0;32m   1268\u001b[0m \u001b[38;5;28;01mif\u001b[39;00m date_format \u001b[38;5;129;01mis\u001b[39;00m \u001b[38;5;28;01mNone\u001b[39;00m:\n",
      "File \u001b[1;32mc:\\Users\\vdelgado_z\\AppData\\Local\\Programs\\Python\\Python311\\Lib\\site-packages\\pandas\\io\\common.py:872\u001b[0m, in \u001b[0;36mget_handle\u001b[1;34m(path_or_buf, mode, encoding, compression, memory_map, is_text, errors, storage_options)\u001b[0m\n\u001b[0;32m    863\u001b[0m         handle \u001b[38;5;241m=\u001b[39m \u001b[38;5;28mopen\u001b[39m(\n\u001b[0;32m    864\u001b[0m             handle,\n\u001b[0;32m    865\u001b[0m             ioargs\u001b[38;5;241m.\u001b[39mmode,\n\u001b[1;32m   (...)\u001b[0m\n\u001b[0;32m    868\u001b[0m             newline\u001b[38;5;241m=\u001b[39m\u001b[38;5;124m\"\u001b[39m\u001b[38;5;124m\"\u001b[39m,\n\u001b[0;32m    869\u001b[0m         )\n\u001b[0;32m    870\u001b[0m     \u001b[38;5;28;01melse\u001b[39;00m:\n\u001b[0;32m    871\u001b[0m         \u001b[38;5;66;03m# Binary mode\u001b[39;00m\n\u001b[1;32m--> 872\u001b[0m         handle \u001b[38;5;241m=\u001b[39m \u001b[38;5;28mopen\u001b[39m(handle, ioargs\u001b[38;5;241m.\u001b[39mmode)\n\u001b[0;32m    873\u001b[0m     handles\u001b[38;5;241m.\u001b[39mappend(handle)\n\u001b[0;32m    875\u001b[0m \u001b[38;5;66;03m# Convert BytesIO or file objects passed with an encoding\u001b[39;00m\n",
      "\u001b[1;31mPermissionError\u001b[0m: [Errno 13] Permission denied: 'wwcl_flow_df.xlsx'"
     ]
    }
   ],
   "source": [
    "import numpy as np\n",
    "\n",
    "WWSF_flowrate = df_1_10['WWSF FLOWRATE (calculated) (F_CV)']\n",
    "CEPT_west_supply_flow = df_1_10['CEPT WID2 (WEST) Supply FLOW']\n",
    "CEPT_east_supply_flow = df_1_10['CEPT WID3 (EAST) Supply FLOW']\n",
    "\n",
    "percent_flow_to_CEPT_WID3_east = np.where(df_1_10['CEPT Treated Flow'] != 0, pd.to_numeric(CEPT_east_supply_flow / df_1_10['CEPT Treated Flow']) * 100, 0)\n",
    "percent_flow_to_CEPT_WID2_west = np.where(df_1_10['CEPT Treated Flow'] != 0, pd.to_numeric(CEPT_west_supply_flow / df_1_10['CEPT Treated Flow']) * 100, 0)\n",
    "percent_flow_to_CEPT_WWSF = np.where(df_1_10['CEPT Treated Flow'] != 0, (WWSF_flowrate / df_1_10['CEPT Treated Flow']) * 100, 0)\n",
    "\n",
    "\n",
    "\n",
    "\n",
    "wwcl_flow_df = [\n",
    "    WWSF_flowrate,\n",
    "    CEPT_west_supply_flow,\n",
    "    CEPT_east_supply_flow,\n",
    "    percent_flow_to_CEPT_WID3_east,\n",
    "    percent_flow_to_CEPT_WID2_west,\n",
    "    percent_flow_to_CEPT_WWSF\n",
    "]\n",
    "\n",
    "wwcl_flow_df = pd.DataFrame(wwcl_flow_df)\n",
    "wwcl_flow_df = wwcl_flow_df.transpose()\n",
    "wwcl_flow_df['date/time'] = df_1_10['date/time']\n",
    "wwcl_flow_df.columns = ['WWSF FLOWRATE (calculated) (F_CV)', \n",
    "                        'CEPT WID2 (WEST) Supply FLOW',\n",
    "                        'CEPT WID3 (EAST) Supply FLOW', \n",
    "                        'percent_flow_to_CEPT_WID3_east',\n",
    "                        'percent_flow_to_CEPT_WID2_west',\n",
    "                        'percent_flow_to_CEPT_WWSF',\n",
    "                        'date/time']\n",
    "\n",
    "\n",
    "\n",
    "wwcl_flow_df.to_excel('wwcl_flow_df.xlsx')"
   ]
  }
 ],
 "metadata": {
  "kernelspec": {
   "display_name": "Python 3",
   "language": "python",
   "name": "python3"
  },
  "language_info": {
   "codemirror_mode": {
    "name": "ipython",
    "version": 3
   },
   "file_extension": ".py",
   "mimetype": "text/x-python",
   "name": "python",
   "nbconvert_exporter": "python",
   "pygments_lexer": "ipython3",
   "version": "3.11.7"
  }
 },
 "nbformat": 4,
 "nbformat_minor": 2
}
