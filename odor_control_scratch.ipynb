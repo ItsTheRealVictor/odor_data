{
 "cells": [
  {
   "cell_type": "code",
   "execution_count": 2,
   "metadata": {},
   "outputs": [],
   "source": [
    "import pandas as pd"
   ]
  },
  {
   "cell_type": "markdown",
   "metadata": {},
   "source": [
    "### Headworks data\n"
   ]
  },
  {
   "cell_type": "code",
   "execution_count": 51,
   "metadata": {},
   "outputs": [],
   "source": [
    "0### Getting data from other storms\n",
    "\n",
    "wkbks = [\n",
    "    'odor_scrubber1_raw.xlsx_cleaned.xlsx',\n",
    "    'odor_scrubber2_cleaned.xlsx',\n",
    "    'odor_scrubber3_cleaned.xlsx',\n",
    "    'odor_scrubber4_cleaned.xlsx',\n",
    "]\n",
    "\n",
    "dfs = []\n",
    "for wkbk in wkbks:\n",
    "    wkbk_df = pd.read_excel(wkbk)\n",
    "    dfs.append(wkbk_df)\n",
    "\n",
    "\n",
    "master_df = pd.concat(dfs, axis=0)\n"
   ]
  },
  {
   "cell_type": "code",
   "execution_count": 4,
   "metadata": {},
   "outputs": [
    {
     "name": "stdout",
     "output_type": "stream",
     "text": [
      "['01-29' '01-30' '01-31' '02-01' '02-02' '02-03' '02-04' '02-05' '02-06'\n",
      " '02-07' '02-08' '02-09' '02-10' '02-11' '02-12' '02-13' '02-14' '02-15'\n",
      " '02-16' '02-17' '02-18' '02-19' '02-20' '02-21' '02-22' '02-23' '02-24'\n",
      " '02-25' '02-26' '02-27' '02-28' '03-01' '03-02' '03-03' '03-04' '03-05'\n",
      " '03-06' '03-07' '03-08' '03-09' '03-10' '03-11' '03-12' '03-13' '03-14'\n",
      " '03-15' '03-16' '03-17' '03-18' '03-19' '03-20' '03-21' '03-22' '03-23'\n",
      " '03-24' '03-25' '03-26' '03-27' '03-28' '03-29' '03-30' '04-01' '04-02'\n",
      " '04-03' '04-04' '04-05' '04-06' '04-07' '04-08' '04-09' '04-10' '04-11'\n",
      " '04-12' '04-13' '04-14' '04-15' '04-16' '04-17' '04-18' '04-19' '04-20'\n",
      " '04-21' '04-22' '04-23' '04-24' '04-25' '04-26' '04-27' '04-28' '04-29'\n",
      " '04-30' '05-01' '05-02' '05-03' '05-04' '05-05' '05-06' '05-07' '05-08'\n",
      " '05-09' '05-10' '05-11' '05-12' '05-13' '05-14' '05-15' '05-16' '05-17'\n",
      " '05-18' '05-19' '05-20' '05-21' '05-22' '05-23' '05-24' '05-25' '05-26'\n",
      " '05-27' '05-28' '05-29' '05-30' '05-31' '06-01' '06-02' '06-03' '06-04'\n",
      " '06-05' '06-06' '06-07' '06-08' '06-09' '06-10' '06-11' '06-12' '06-13'\n",
      " '06-14' '06-15' '06-16' '06-17' '06-18' '06-19' '06-20' '06-21' '06-22'\n",
      " '06-23' '06-24' '06-25' '06-26' '06-27' '06-28' '06-29' '06-30' '07-01'\n",
      " '07-02' '07-03' '07-04' '07-05' '07-06' '07-07' '07-08' '07-09' '07-10'\n",
      " '07-11' '07-12' '07-13' '07-14' '07-15' '07-16' '07-17' '07-18' '07-19'\n",
      " '07-20' '07-21' '07-22' '07-23' '07-24' '07-25' '07-26' '07-27' '07-28'\n",
      " '07-29' '07-30' '07-31' '08-02' '08-03' '08-04' '08-05' '08-06' '08-07'\n",
      " '08-08' '08-09' '08-10' '08-11' '08-12' '08-13' '08-14' '08-15' '08-16'\n",
      " '08-17' '08-18' '08-19' '08-20' '08-21' '08-22' '08-23' '08-24' '08-25'\n",
      " '08-26' '08-27' '08-28' '08-29' '08-30' '08-31' '09-02' '09-03' '09-04'\n",
      " '09-05' '09-06' '09-07' '09-08' '09-09' '09-10' '09-11' '09-12' '09-13'\n",
      " '09-14' '09-15' '09-16' '09-17' '09-18' '09-19' '09-20' '09-21' '09-22'\n",
      " '09-23' '09-24' '09-25' '09-26' '09-27' '09-28' '09-29' '09-30' '10-02'\n",
      " '10-03' '10-04' '10-05' '10-06' '10-07' '10-08' '10-09' '10-10' '10-11'\n",
      " '10-12' '10-13' '10-14' '10-15' '10-16' '10-17' '10-18' '10-19' '10-20'\n",
      " '10-21' '10-22' '10-23' '10-24' '10-25' '10-26' '10-27' '10-28' '10-29'\n",
      " '10-30' '10-31' '11-01' '11-02' '11-03' '11-04' '11-05' '11-06' '11-07'\n",
      " '11-08' '11-09' '11-10' '11-11' '11-12' '11-13' '11-14' '11-15' '11-16'\n",
      " '11-17' '11-18' '11-19' '11-20' '11-21' '11-22' '11-23' '11-24' '11-25'\n",
      " '11-26' '11-27' '11-28' '11-29' '11-30' '12-02' '12-03' '12-04' '12-05'\n",
      " '12-06' '12-07' '12-08' '12-09' '12-10' '12-11' '12-12' '12-13' '12-14'\n",
      " '12-15' '12-16' '12-17' '12-18' '12-19' '12-20' '12-21' '12-22' '12-23'\n",
      " '12-24' '12-25' '12-26' '12-27' '12-28' '12-29' '12-30' '12-31' '01-01'\n",
      " '01-02' '01-03' '01-04' '01-05' '01-06' '01-07' '01-08' '01-09' '01-10'\n",
      " '01-11' '01-12' '01-13' '01-14' '01-15' '01-16' '01-17' '01-18' '01-19'\n",
      " '01-20' '01-21' '01-22' '01-23' '01-24' '01-25' '01-26' '01-27' '01-28'\n",
      " '03-31' '09-01' '10-01' '12-01' '08-01']\n"
     ]
    }
   ],
   "source": [
    "master_df['date/time'] = pd.to_datetime(master_df['date/time'])\n",
    "\n",
    "master_df_dates = master_df['date/time'].dt.strftime('%m-%d')\n",
    "print(master_df_dates.unique())"
   ]
  },
  {
   "cell_type": "code",
   "execution_count": 33,
   "metadata": {},
   "outputs": [
    {
     "name": "stdout",
     "output_type": "stream",
     "text": [
      "date/time\n",
      "HW - Caustic Feed Pump 1 Available\n",
      "HW - HYPO Feed Pump 1 Available\n",
      "Scrubber 1 Caustic Feed Pump Failed Status\n",
      "Scrubber 1 Caustic Feed Pump Feed Rate\n",
      "Scrubber 1 Caustic Feed Pump Field Fail Status\n",
      "Scrubber 1 Caustic Feed Pump Local/Remote Status\n",
      "Scrubber 1 Caustic Feed Pump ON Status\n",
      "Scrubber 1 H2S\n",
      "Scrubber 1 HYPO Feed Pump Failed Status\n",
      "Scrubber 1 HYPO Feed Pump Field Fail Status\n",
      "Scrubber 1 HYPO Feed Pump Local/Remote Status\n",
      "Scrubber 1 HYPO Feed Pump ON Status\n",
      "Scrubber 1 HYPO Feed Pump Speed\n",
      "Scrubber 1 ORP\n",
      "Scrubber 1 ORP Controller Auto Status\n",
      "Scrubber 1 ORP Controller Output\n",
      "Scrubber 1 ORP Controller Setpoint\n",
      "Scrubber 1 pH\n",
      "Scrubber 1 pH Controller Auto Status\n",
      "Scrubber 1 pH Controller Output\n",
      "Scrubber 1 pH Controller Setpoint\n",
      "Scrubbers Inlet Manifold H2S\n",
      "HW - Caustic Feed Pump 2 Available\n",
      "HW - HYPO Feed Pump 2 Available\n",
      "OC2 Caustic Pump 2 FEEDRATE\n",
      "Scrubber 1/2 Recirc. Pump On Status\n",
      "Scrubber 2 Caustic Feed Pump Failed Status\n",
      "Scrubber 2 Caustic Feed Pump Field Fail Status\n",
      "Scrubber 2 Caustic Feed Pump Local/Remote Status\n",
      "Scrubber 2 Caustic Feed Pump ON Status\n",
      "Scrubber 2 H2S\n",
      "Scrubber 2 HYPO Feed Pump Failed Status\n",
      "Scrubber 2 HYPO Feed Pump Field Fail Status\n",
      "Scrubber 2 HYPO Feed Pump Local/Remote Status\n",
      "Scrubber 2 HYPO Feed Pump ON Status\n",
      "Scrubber 2 HYPO Feed Pump Speed\n",
      "Scrubber 2 ORP\n",
      "Scrubber 2 ORP Controller Auto Status\n",
      "Scrubber 2 ORP Controller Output\n",
      "Scrubber 2 ORP Controller Setpoint\n",
      "Scrubber 2 Recirc. Pump 2 On Status\n",
      "Scrubber 2 pH\n",
      "Scrubber 2 pH Controller Auto Status\n",
      "Scrubber 2 pH Controller Output\n",
      "Scrubber 2 pH Controller Setpoint\n",
      "HW - Caustic Feed Pump 3 Available\n",
      "HW - HYPO Feed Pump 3 Available\n",
      "OC3 Caustic Pump 3 FEEDRATE\n",
      "Scrubber 3 Caustic Feed Pump Failed Status\n",
      "Scrubber 3 Caustic Feed Pump Field Fail Status\n",
      "Scrubber 3 Caustic Feed Pump Local/Remote Status\n",
      "Scrubber 3 Caustic Feed Pump ON Status\n",
      "Scrubber 3 Feed Pump Field Fail Status\n",
      "Scrubber 3 H2S\n",
      "Scrubber 3 HYPO Feed Pump Failed Status\n",
      "Scrubber 3 HYPO Feed Pump Local/Remote Status\n",
      "Scrubber 3 HYPO Feed Pump ON Status\n",
      "Scrubber 3 HYPO Feed Pump Speed\n",
      "Scrubber 3 ORP\n",
      "Scrubber 3 ORP Controller Auto Status\n",
      "Scrubber 3 ORP Controller Output\n",
      "Scrubber 3 ORP Controller Setpoint\n",
      "Scrubber 3 Recirc. Pump 3 On Status\n",
      "Scrubber 3 pH\n",
      "Scrubber 3 pH Controller Auto Status\n",
      "Scrubber 3 pH Controller Output\n",
      "Scrubber 3 pH Controller Setpoint\n",
      "Scrubber 3/4 Recirc. Pump On Status\n",
      "HW - Caustic Feed Pump 4 Available\n",
      "HW - HYPO Feed Pump 4 Available\n",
      "OC4 Caustic Pump 4 FEEDRATE\n",
      "Scrubber 4 Caustic Feed Pump Failed Status\n",
      "Scrubber 4 Caustic Feed Pump Field Fail Status\n",
      "Scrubber 4 Caustic Feed Pump Local/Remote Status\n",
      "Scrubber 4 Caustic Feed Pump ON Status\n",
      "Scrubber 4 H2S\n",
      "Scrubber 4 HYPO Feed Pump Failed Status\n",
      "Scrubber 4 HYPO Feed Pump Field Fail Status\n",
      "Scrubber 4 HYPO Feed Pump Local/Remote Status\n",
      "Scrubber 4 HYPO Feed Pump ON Status\n",
      "Scrubber 4 HYPO Feed Pump Speed\n",
      "Scrubber 4 ORP\n",
      "Scrubber 4 ORP Controller Auto Status\n",
      "Scrubber 4 ORP Controller Output\n",
      "Scrubber 4 ORP Controller Setpoint\n",
      "Scrubber 4 Recirc. Pump 4 On Status\n",
      "Scrubber 4 pH\n",
      "Scrubber 4 pH Controller Auto Status\n",
      "Scrubber 4 pH Controller Output\n",
      "Scrubber 4 pH Controller Setpoint\n"
     ]
    }
   ],
   "source": [
    "for col in master_df.columns:\n",
    "    print(col)"
   ]
  },
  {
   "cell_type": "code",
   "execution_count": 57,
   "metadata": {},
   "outputs": [
    {
     "name": "stderr",
     "output_type": "stream",
     "text": [
      "C:\\Users\\vdelgado_z\\AppData\\Local\\Temp\\1\\ipykernel_2372\\1630105717.py:25: SettingWithCopyWarning: \n",
      "A value is trying to be set on a copy of a slice from a DataFrame\n",
      "\n",
      "See the caveats in the documentation: https://pandas.pydata.org/pandas-docs/stable/user_guide/indexing.html#returning-a-view-versus-a-copy\n",
      "  odor_cols.fillna(0, inplace=True)\n"
     ]
    }
   ],
   "source": [
    "odor_cols = master_df[[\n",
    "    'date/time',\n",
    "    'Scrubbers Inlet Manifold H2S',\n",
    "    'Scrubber 1 H2S',\n",
    "    'Scrubber 2 H2S',\n",
    "    'Scrubber 3 H2S',\n",
    "    'Scrubber 4 H2S',\n",
    "    'Scrubber 1 ORP',\n",
    "    'Scrubber 2 ORP',\n",
    "    'Scrubber 3 ORP',\n",
    "    'Scrubber 4 ORP',\n",
    "    'Scrubber 1 pH',\n",
    "    'Scrubber 2 pH',\n",
    "    'Scrubber 3 pH',\n",
    "    'Scrubber 4 pH',\n",
    "    'Scrubber 1 HYPO Feed Pump Speed',\n",
    "    'Scrubber 2 HYPO Feed Pump Speed',\n",
    "    'Scrubber 3 HYPO Feed Pump Speed',\n",
    "    'Scrubber 4 HYPO Feed Pump Speed',\n",
    "    'Scrubber 1 Caustic Feed Pump Feed Rate',\n",
    "    'OC2 Caustic Pump 2 FEEDRATE',\n",
    "    'OC3 Caustic Pump 3 FEEDRATE',\n",
    "    'OC4 Caustic Pump 4 FEEDRATE'\n",
    "]]\n",
    "odor_cols.fillna(0, inplace=True)\n",
    "\n"
   ]
  },
  {
   "cell_type": "code",
   "execution_count": 58,
   "metadata": {},
   "outputs": [
    {
     "name": "stderr",
     "output_type": "stream",
     "text": [
      "C:\\Users\\vdelgado_z\\AppData\\Local\\Temp\\1\\ipykernel_2372\\2548992187.py:1: SettingWithCopyWarning: \n",
      "A value is trying to be set on a copy of a slice from a DataFrame.\n",
      "Try using .loc[row_indexer,col_indexer] = value instead\n",
      "\n",
      "See the caveats in the documentation: https://pandas.pydata.org/pandas-docs/stable/user_guide/indexing.html#returning-a-view-versus-a-copy\n",
      "  odor_cols['date/time'] = pd.to_datetime(odor_cols['date/time'])\n"
     ]
    }
   ],
   "source": [
    "odor_cols['date/time'] = pd.to_datetime(odor_cols['date/time'])"
   ]
  },
  {
   "cell_type": "code",
   "execution_count": 36,
   "metadata": {},
   "outputs": [
    {
     "data": {
      "text/plain": [
       "Index(['date/time', 'Scrubbers Inlet Manifold H2S', 'Scrubber 1 H2S',\n",
       "       'Scrubber 2 H2S', 'Scrubber 3 H2S', 'Scrubber 4 H2S', 'Scrubber 1 ORP',\n",
       "       'Scrubber 2 ORP', 'Scrubber 3 ORP', 'Scrubber 4 ORP', 'Scrubber 1 pH',\n",
       "       'Scrubber 2 pH', 'Scrubber 3 pH', 'Scrubber 4 pH',\n",
       "       'OC2 Caustic Pump 2 FEEDRATE', 'OC3 Caustic Pump 3 FEEDRATE',\n",
       "       'OC4 Caustic Pump 4 FEEDRATE'],\n",
       "      dtype='object')"
      ]
     },
     "execution_count": 36,
     "metadata": {},
     "output_type": "execute_result"
    }
   ],
   "source": [
    "odor_cols.columns"
   ]
  },
  {
   "cell_type": "code",
   "execution_count": 60,
   "metadata": {},
   "outputs": [],
   "source": [
    "monthly_avg_data = odor_cols.resample('M', on='date/time').mean()\n",
    "daily_avg_data = odor_cols.resample('D', on='date/time').mean()\n",
    "daily_max_data = odor_cols.resample('D', on='date/time').max()\n",
    "\n",
    "\n",
    "monthly_avg_data.to_excel('HW_odor_monthly_averages.xlsx')\n",
    "daily_avg_data.to_excel('HW_odor_daily_averages.xlsx')\n",
    "daily_max_data.to_excel('HW_odor_daily_maxes.xlsx')"
   ]
  },
  {
   "cell_type": "code",
   "execution_count": 55,
   "metadata": {},
   "outputs": [],
   "source": [
    "odor_cols.to_excel('odor_control_data.xlsx')"
   ]
  },
  {
   "cell_type": "markdown",
   "metadata": {},
   "source": [
    "### DWCL data\n"
   ]
  },
  {
   "cell_type": "code",
   "execution_count": 62,
   "metadata": {},
   "outputs": [],
   "source": [
    "wkbks = [\n",
    "    'DWCL_odor_scrubber1_raw.xlsx_cleaned.xlsx',\n",
    "    'DWCL_odor_scrubber2_raw.xlsx_cleaned.xlsx',\n",
    "]\n",
    "\n",
    "dfs = []\n",
    "for wkbk in wkbks:\n",
    "    wkbk_df = pd.read_excel(wkbk)\n",
    "    dfs.append(wkbk_df)\n",
    "\n",
    "\n",
    "DWCL_master_df = pd.concat(dfs, axis=0)"
   ]
  },
  {
   "cell_type": "code",
   "execution_count": 63,
   "metadata": {},
   "outputs": [
    {
     "name": "stdout",
     "output_type": "stream",
     "text": [
      "date/time\n",
      "DWCL Inlet Manifold H2S\n",
      "DWCL Scrubber 1 ORP\n",
      "DWCL Scrubber 1 Output H2S\n",
      "DWCL Scrubber 1 pH\n",
      "DWOC Scrubber 1 ORP Loop Gain\n",
      "DWOC Scrubber 1 ORP Loop Output\n",
      "DWOC Scrubber 1 ORP Loop Setpoint cmd\n",
      "DWOC Scrubber 1 ORP Loop Time Integral\n",
      "DWOC Scrubber 1 pH Loop Gain\n",
      "DWOC Scrubber 1 pH Loop Output\n",
      "DWOC Scrubber 1 pH Loop Setpoint cmd\n",
      "DWOC Scrubber 1 pH Loop Time Integral\n",
      "DWCL Scrubber 2 ORP\n",
      "DWCL Scrubber 2 Output H2S\n",
      "DWCL Scrubber 2 pH\n",
      "DWOC Scrubber 2 ORP Loop Gain\n",
      "DWOC Scrubber 2 ORP Loop Output\n",
      "DWOC Scrubber 2 ORP Loop Setpoint cmd\n",
      "DWOC Scrubber 2 ORP Loop Time Integral\n",
      "DWOC Scrubber 2 pH Loop Gain\n",
      "DWOC Scrubber 2 pH Loop Output\n",
      "DWOC Scrubber 2 pH Loop Setpoint\n",
      "DWOC Scrubber 2 pH Loop Time Integral\n"
     ]
    }
   ],
   "source": [
    "for col in DWCL_master_df.columns:\n",
    "    print(col)"
   ]
  },
  {
   "cell_type": "code",
   "execution_count": 65,
   "metadata": {},
   "outputs": [
    {
     "name": "stderr",
     "output_type": "stream",
     "text": [
      "C:\\Users\\vdelgado_z\\AppData\\Local\\Temp\\1\\ipykernel_2372\\782212489.py:12: SettingWithCopyWarning: \n",
      "A value is trying to be set on a copy of a slice from a DataFrame\n",
      "\n",
      "See the caveats in the documentation: https://pandas.pydata.org/pandas-docs/stable/user_guide/indexing.html#returning-a-view-versus-a-copy\n",
      "  DWCL_odor_cols.fillna(0, inplace=True)\n"
     ]
    }
   ],
   "source": [
    "DWCL_odor_cols = DWCL_master_df[[\n",
    "    'date/time',\n",
    "    'DWCL Inlet Manifold H2S',\n",
    "    'DWCL Scrubber 1 ORP',\n",
    "    'DWCL Scrubber 1 Output H2S',\n",
    "    'DWCL Scrubber 1 pH',\n",
    "    'DWCL Scrubber 2 ORP',\n",
    "    'DWCL Scrubber 2 Output H2S',\n",
    "    'DWCL Scrubber 2 pH',\n",
    "\n",
    "]]\n",
    "DWCL_odor_cols.fillna(0, inplace=True)\n"
   ]
  },
  {
   "cell_type": "code",
   "execution_count": 66,
   "metadata": {},
   "outputs": [
    {
     "name": "stderr",
     "output_type": "stream",
     "text": [
      "C:\\Users\\vdelgado_z\\AppData\\Local\\Temp\\1\\ipykernel_2372\\2175960191.py:1: SettingWithCopyWarning: \n",
      "A value is trying to be set on a copy of a slice from a DataFrame.\n",
      "Try using .loc[row_indexer,col_indexer] = value instead\n",
      "\n",
      "See the caveats in the documentation: https://pandas.pydata.org/pandas-docs/stable/user_guide/indexing.html#returning-a-view-versus-a-copy\n",
      "  DWCL_odor_cols['date/time'] = pd.to_datetime(DWCL_odor_cols['date/time'])\n"
     ]
    }
   ],
   "source": [
    "DWCL_odor_cols['date/time'] = pd.to_datetime(DWCL_odor_cols['date/time'])"
   ]
  },
  {
   "cell_type": "code",
   "execution_count": null,
   "metadata": {},
   "outputs": [],
   "source": [
    "DWCL_odor_cols.to_excel('DWCL_odor_data.xlsx')"
   ]
  },
  {
   "cell_type": "code",
   "execution_count": 67,
   "metadata": {},
   "outputs": [],
   "source": [
    "DWCL_monthly_avg_data = DWCL_odor_cols.resample('M', on='date/time').mean()\n",
    "DWCL_daily_avg_data = DWCL_odor_cols.resample('D', on='date/time').mean()\n",
    "DWCL_daily_max_data = DWCL_odor_cols.resample('D', on='date/time').max()\n",
    "\n",
    "\n",
    "DWCL_monthly_avg_data.to_excel('DWCL_odor_monthly_averages.xlsx')\n",
    "DWCL_daily_avg_data.to_excel('DWCL_odor_daily_averages.xlsx')\n",
    "DWCL_daily_max_data.to_excel('DWCL_odor_daily_maxes.xlsx')"
   ]
  }
 ],
 "metadata": {
  "kernelspec": {
   "display_name": "Python 3",
   "language": "python",
   "name": "python3"
  },
  "language_info": {
   "codemirror_mode": {
    "name": "ipython",
    "version": 3
   },
   "file_extension": ".py",
   "mimetype": "text/x-python",
   "name": "python",
   "nbconvert_exporter": "python",
   "pygments_lexer": "ipython3",
   "version": "3.11.7"
  }
 },
 "nbformat": 4,
 "nbformat_minor": 2
}
