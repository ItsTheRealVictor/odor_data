{
 "cells": [
  {
   "cell_type": "code",
   "execution_count": 1,
   "metadata": {},
   "outputs": [],
   "source": [
    "import pandas as pd\n",
    "\n",
    "# first_df = pd.read_excel('RNGF Tag data 11.27.23-12.4.23am.xlsx')\n",
    "# second_df = pd.read_excel('RNGF Tag data 12.4.23-12.21.23.xlsx')\n",
    "\n",
    "first_df = pd.read_excel('RNGF Tag data 12.21.23-12.31.23_new.xlsx')\n",
    "second_df = pd.read_excel('RNGF_Tag_data_Jan_2024.xlsx')\n",
    "third_df = pd.read_excel('RNGF Tags data 2.1.24-2.7.24.xlsx')\n",
    "fourth_df = pd.read_excel('RNGF Tag data 11.27.23-12.4.23am.xlsx')\n",
    "fifth_df = pd.read_excel('RNGF Tag data 12.4.23-12.21.23.xlsx')"
   ]
  },
  {
   "cell_type": "code",
   "execution_count": 2,
   "metadata": {},
   "outputs": [],
   "source": [
    "combined_df = pd.concat([first_df, second_df, third_df, fourth_df, fifth_df])"
   ]
  },
  {
   "cell_type": "code",
   "execution_count": 3,
   "metadata": {},
   "outputs": [],
   "source": [
    "combined_df['Start Time'] = pd.to_datetime(combined_df['Start Time'])"
   ]
  },
  {
   "cell_type": "markdown",
   "metadata": {},
   "source": [
    "### Sort by date\n"
   ]
  },
  {
   "cell_type": "code",
   "execution_count": 4,
   "metadata": {},
   "outputs": [],
   "source": [
    "combined_df = combined_df.sort_values(by='Start Time', ascending=True)"
   ]
  },
  {
   "cell_type": "markdown",
   "metadata": {},
   "source": [
    "### Drop duplicates in the date column"
   ]
  },
  {
   "cell_type": "code",
   "execution_count": 5,
   "metadata": {},
   "outputs": [],
   "source": [
    "combined_df = combined_df.drop_duplicates(subset='Start Time')"
   ]
  },
  {
   "cell_type": "markdown",
   "metadata": {},
   "source": [
    "### Reset the master dataframe index"
   ]
  },
  {
   "cell_type": "code",
   "execution_count": 6,
   "metadata": {},
   "outputs": [],
   "source": [
    "combined_df.reset_index(drop=True, inplace=True)"
   ]
  },
  {
   "cell_type": "code",
   "execution_count": 7,
   "metadata": {},
   "outputs": [],
   "source": [
    "import sqlite3\n",
    "\n",
    "connection = sqlite3.connect('combined_df.db')\n",
    "db = combined_df.to_sql('combined_df', connection, if_exists='replace')\n",
    "\n"
   ]
  },
  {
   "cell_type": "code",
   "execution_count": 8,
   "metadata": {},
   "outputs": [
    {
     "data": {
      "text/plain": [
       "Index(['Start Time', 'RNGBLWR-Bstr Blwr 1 Speed FDBK PV- Loop 9145',\n",
       "       'RNGBLWR-Bstr Blwr 2 Speed FDBK PV- Loop 9149',\n",
       "       'RNGBLWR-Dig Gas Inlet PRESS PV- Loop 9140',\n",
       "       'RNGBLWR-Skid Disch FLOW PV- Loop 9159',\n",
       "       'RNGBLWR-System Gas Disch PRESS PV- Loop 9158',\n",
       "       'RNGCOMP-Comp Speed PV- Loop 9250',\n",
       "       'RNGCOMP-Stage 1 Inlet Press PV- Loop 9234',\n",
       "       'RNGCOMP-Stage 2 Final Press PV- Loop 9241',\n",
       "       'RNGDGTS-Boigas Stream Flow- Loop 8940',\n",
       "       'RNGDGTS-Compressor Suction Pressure- Loop 8948',\n",
       "       'RNGDGTS-Gas flow- Loop 9069',\n",
       "       'RNGDGTS-Plant compressor Speed- Loop 8964',\n",
       "       'RNGFLARE-Off-Gas to Flare Flow PV- Loop 9317',\n",
       "       'RNGFLARE-Reject Gas to Flare Flow PV- Loop 9316',\n",
       "       'RNGFLARE-VPSA Stg 1 off-gas flare flow- Loop 9315',\n",
       "       'RNGNWNG-Outlet Pressure- Loop 9341', 'RNGNWNG-RNG Flow- Loop 9327',\n",
       "       'RNGRTO-Gas Trtmnt Tail Gas Flow PV- Loop 9105',\n",
       "       'RNGRTO-Inlet PRESSURE PV- Loop 9181',\n",
       "       'RNGRTO-Iso Valve Closed- Loop 9182',\n",
       "       'RNGSUMP-DGTS Greenlane capacity command- Loop 9298',\n",
       "       'SUM LOOPS 2916,2915,5655,5656,5657,5658', 'Start Time.1',\n",
       "       'RNGDGTS-Biogas Stream CH4- Loop 8942',\n",
       "       'RNGDGTS-Biogas Stream CO2- Loop 8943',\n",
       "       'RNGDGTS-Biogas Stream H2S- Loop 8946',\n",
       "       'RNGDGTS-Biogas Stream N2- Loop 8945',\n",
       "       'RNGDGTS-Biogas Stream O2- Loop 8944',\n",
       "       'RNGDGTS-Biomethane Stream CH4- Loop 9072',\n",
       "       'RNGDGTS-Biomethane Stream CO2- Loop 9075',\n",
       "       'RNGDGTS-Biomethane Stream H2S- Loop 9076',\n",
       "       'RNGDGTS-Biomethane Stream N2- Loop 9074',\n",
       "       'RNGDGTS-Biomethane Stream O2- Loop 9073',\n",
       "       'RNGDGTS-Compressor Suction Pressure- Loop 8948.1',\n",
       "       'RNGDGTS-NOVA Stage 1 CH4- Loop 9056',\n",
       "       'RNGDGTS-NOVA Stage 1 O2- Loop 9055',\n",
       "       'RNGDGTS-NOVA Stage 2 CH4- Loop 9101',\n",
       "       'RNGDGTS-NOVA Stage 2 O2- Loop 9100',\n",
       "       'RNGDGTS-Product Gas Carbon Dioxide Content- Loop 9017',\n",
       "       'RNGDGTS-Product Gas Dew Point- Loop 9016',\n",
       "       'RNGDGTS-Product Gas Hydrogen Sulphide Co- Loop 9015',\n",
       "       'RNGDGTS-Product Gas O2 Content - VPSA co- Loop 9018',\n",
       "       'RNGDGTS-Product Gas Temp PV- Loop 9030', 'Start Time.2',\n",
       "       'RNGDGTS-Plant compressor Speed- Loop 8964.1',\n",
       "       'RNGRTO-Flame Arrestor Temp PV- Loop 9178',\n",
       "       'RNGRTO-Gas Trtmnt Tail Gas Flow PV- Loop 9105.1',\n",
       "       'RNGRTO-Inlet PRESSURE PV- Loop 9181.1',\n",
       "       'RNGRTO-Inlet Temp PV- Loop 9187', 'RNGRTO-Iso Valve Opened- Loop 9182',\n",
       "       'RNGRTO-Main Blwr SPEED PV- Loop 9184',\n",
       "       'RNGRTO-Process Air LEL PV- Loop 9180',\n",
       "       'RNGRTO-Totara Process LEL PV- Loop 9177',\n",
       "       'RNGSUMP-DGTS Greenlane Gas to Flare Status- Loop 9292',\n",
       "       'RNGSUMP-DGTS Greenlane in Recycle Status- Loop 9293',\n",
       "       'RNGSUMP-DGTS Greenlane On-Spec Status- Loop 9291', 'Start Time.3',\n",
       "       'RNGDGTS-Gas flow- Loop 9069.1',\n",
       "       'RNGDGTS-LIT07 Stripping Vessel Level- Loop 8985',\n",
       "       'RNGDGTS-LIT08 Scrubbing Vessel Level- Loop 8980',\n",
       "       'RNGDGTS-LIT09 Flashing Vessel Level- Loop 8983',\n",
       "       'RNGDGTS-M04A Blower ON- Loop 8991',\n",
       "       'RNGDGTS-Plant compressor Speed- Loop 8964.2',\n",
       "       'RNGDGTS-PT101 VPSA 2 Recycle to Totara- Loop 8977',\n",
       "       'RNGDGTS-PT301 VPSA 1 Exhaust to Flare- Loop 8978',\n",
       "       'RNGDGTS-Stripping Vessel Level PV- Loop 8985',\n",
       "       'RNGDGTS-Water Pump G03 Speed PV- Loop 8995',\n",
       "       'RNGDGTS-YV07 Product Gas Valve Recycle- Loop 9004',\n",
       "       'RNGDGTS-YV25 Bad Gas Out Flare Valve- Loop 9005', 'Start Time.4',\n",
       "       'RNGDGTS- CV-207 VPSA 2 Regen to Totara- Loop 9090',\n",
       "       'RNGDGTS- CV-207 VPSA 2 Regen to Totara- Loop 9099',\n",
       "       'RNGDGTS-CV-208 VPSA 2 off-gas to flare- Loop 9096',\n",
       "       'RNGDGTS-VPSA Stage 1 Running- Loop 9035',\n",
       "       'RNGDGTS-VPSA Stage 2 Running- Loop 9036',\n",
       "       'RNGDGTS-VPSA1 Bypass Valve- Loop 9071',\n",
       "       'RNGDGTS-VPSA1 Outlet Valve- Loop 9070',\n",
       "       'RNGDGTS-VPSA1 Product Gas to Compressor- Loop 9077',\n",
       "       'RNGDGTS-VPSA1 Product Gas to Flare- Loop 9078',\n",
       "       'RNGDGTS-VPSA1 Vac Pump P001 Speed PV- Loop 9082',\n",
       "       'RNGDGTS-VPSA2 Vac Pump P002 Speed PV- Loop 9102', 'Start Time.5',\n",
       "       'RNGNWNG-Acceptance Valve CLOSE- Loop 9325',\n",
       "       'RNGNWNG-Recycle Valve CLOSE- Loop 9326',\n",
       "       'RNGNWNG-RNG Methane- Loop 9328',\n",
       "       'RNGNWNG-RNG Heating Value- Loop 9329',\n",
       "       'RNGNWNG-RNG Wobbe Number- Loop 9330',\n",
       "       'RNGNWNG-RNG Carbon Dioxide- Loop 9332',\n",
       "       'RNGNWNG-RNG Nitrogen- Loop 9333', 'RNGNWNG-RNG Oxygen- Loop 9334',\n",
       "       'RNGNWNG-RNG Total Inerts and O- Loop 9335',\n",
       "       'RNGNWNG-RNG Hydrgen Sulfide- Loop 9336',\n",
       "       'RNGNWNG-RNG Total Sulfur- Loop 9337',\n",
       "       'RNGNWNG-RNG Moisture- Loop 9338',\n",
       "       'RNGNWNG-RNG Hydrocarbon Dew Point- Loop 9339',\n",
       "       'RNGNWNG-Inlet Pressure- Loop 9340',\n",
       "       'RNGNWNG-Outlet Pressure- Loop 9341.1',\n",
       "       'RNGNWNG-Process Gas Temperature- Loop 9342'],\n",
       "      dtype='object')"
      ]
     },
     "execution_count": 8,
     "metadata": {},
     "output_type": "execute_result"
    }
   ],
   "source": [
    "combined_df.columns"
   ]
  },
  {
   "cell_type": "markdown",
   "metadata": {},
   "source": [
    "### Overview graph data"
   ]
  },
  {
   "cell_type": "code",
   "execution_count": 9,
   "metadata": {},
   "outputs": [],
   "source": [
    "overview_graph = combined_df[[\n",
    "    'Start Time', \n",
    "    'RNGBLWR-Skid Disch FLOW PV- Loop 9159', # Blower Discharge Flow (scfm) col F\n",
    "    'RNGBLWR-System Gas Disch PRESS PV- Loop 9158', # Blower Discharge Press (psig) col col G\n",
    "    'RNGDGTS-Plant compressor Speed- Loop 8964', # Totara Speed (RPM) col CM\n",
    "    'RNGRTO-Gas Trtmnt Tail Gas Flow PV- Loop 9105.1', # RTO Inlet Flow (scfm) col T\n",
    "    'RNGRTO-Inlet PRESSURE PV- Loop 9181.1', # RTO Inlet Pressure (in WC) col U\n",
    "    'RNGFLARE-Reject Gas to Flare Flow PV- Loop 9316', # Reject Gas to Flare (scfm) col P\n",
    "    'RNGCOMP-Stage 2 Final Press PV- Loop 9241', # ANGI S2 Discharge (psig) col J\n",
    "    'RNGDGTS-VPSA Stage 1 Running- Loop 9035', # VPSA Status col CW\n",
    "    ]]\n",
    "\n",
    "\n",
    "\n",
    "\n",
    "\n",
    "overview_graph_df = pd.DataFrame(overview_graph)\n",
    "overview_graph_df.columns = [\n",
    "    'date/time',\n",
    "    'Blower Discharge Flow (scfm)',\n",
    "    'Blower Discharge Flow (psig)',\n",
    "    'Totara Speed (RPM)',\n",
    "    'RTO Inlet Flow (scfm)',\n",
    "    'RTO Inlet Pressure (in WC)',\n",
    "    'Reject Gas to Floar (scfm)',\n",
    "    'ANGI S2 Discharge (psig)',\n",
    "    'VPSA Status']\n",
    "overview_graph_df = overview_graph_df.reset_index(drop=True)\n",
    "# overview_graph_df.transpose()\n",
    "\n",
    "overview_graph_df.to_excel('overview_graph_df.xlsx')"
   ]
  },
  {
   "cell_type": "markdown",
   "metadata": {},
   "source": [
    "### VPSA Overview "
   ]
  },
  {
   "cell_type": "code",
   "execution_count": null,
   "metadata": {},
   "outputs": [],
   "source": [
    "import numpy as np\n",
    "\n",
    "\n",
    "vpsa_graph = combined_df[[\n",
    "    'Start Time',\n",
    "    'RNGDGTS-VPSA Stage 1 Running- Loop 9035', # VPSA status col CW\n",
    "    'RNGFLARE-VPSA Stg 1 off-gas flare flow- Loop 9315', # VPSA Stage 1 off-gas flow col Q\n",
    "    'RNGFLARE-Off-Gas to Flare Flow PV- Loop 9317', # VPSA Stage 2 off-gas flow col O\n",
    "    'RNGDGTS-VPSA1 Vac Pump P001 Speed PV- Loop 9082', # VPSA p-001 col DC\n",
    "    'RNGDGTS-VPSA2 Vac Pump P002 Speed PV- Loop 9102', # VPSA p-002 col DD\n",
    "\n",
    "]]\n",
    "\n",
    "\n",
    "roflo_speed_perc = np.where(combined_df['RNGDGTS-Plant compressor Speed- Loop 8964.2'] > 250, ( combined_df['RNGDGTS-Plant compressor Speed- Loop 8964.2']/760) * 100, 0)\n",
    "\n",
    "vpsa_graph_df = pd.DataFrame(vpsa_graph)\n",
    "\n",
    "vpsa_graph_df['roflo_speed_perc'] = roflo_speed_perc\n",
    "\n",
    "vpsa_graph_df.columns = [\n",
    "    'Start Time', \n",
    "    'VPSA status',\n",
    "    'VPSA stage 1 off-gas flow',\n",
    "    'VPSA stage 2 off-gas flow',\n",
    "    'VPSA P-001',\n",
    "    'VPSA P-002',\n",
    "    'Totara Speed (%)'\n",
    "]\n",
    "\n",
    "vpsa_graph_df.to_excel('vpsa_graph_df.xlsx')"
   ]
  },
  {
   "cell_type": "markdown",
   "metadata": {},
   "source": [
    "### RNGF AIT 500\n"
   ]
  },
  {
   "cell_type": "code",
   "execution_count": null,
   "metadata": {},
   "outputs": [],
   "source": [
    "# add this\n",
    "roflo_speed_perc # Totara Speed (%) col AT\n",
    "\n",
    "rngf_graph = combined_df[[\n",
    "    'Start Time',\n",
    "    'RNGDGTS-Biogas Stream CH4- Loop 8942', # Biogas CH4 col Y,\n",
    "    'RNGDGTS-Biomethane Stream CH4- Loop 9072', # Product CH4 col AD\n",
    "    'RNGDGTS-NOVA Stage 1 CH4- Loop 9056', # NOVA CH4 col AJ\n",
    "    'RNGDGTS-Biogas Stream CO2- Loop 8943', # Biogas CO2 col Z\n",
    "    'RNGDGTS-Biomethane Stream CO2- Loop 9075', # Product CO2 col AE\n",
    "    'RNGDGTS-VPSA Stage 1 Running- Loop 9035', # VPSA status col CW\n",
    "    'RNGDGTS-VPSA1 Product Gas to Flare- Loop 9078' # Product to Flare (CV -120) col DB\n",
    "]]\n",
    "\n",
    "rngf_graph_df = pd.DataFrame(rngf_graph)\n",
    "rngf_graph_df.columns = [\n",
    "    'date/time',\n",
    "    'Biogas CH4',\n",
    "    'Product CH4',\n",
    "    'NOVA CH4',\n",
    "    'Biogas CO2',\n",
    "    'Product CO2',\n",
    "    'VPSA Status',\n",
    "    'Product to Flare (CV-120)'\n",
    "    'Totara speed (%)'\n",
    "]\n",
    "\n",
    "\n",
    "rngf_graph_df['Totara speed (%)'] = roflo_speed_perc\n",
    "\n",
    "rngf_graph_df.to_excel('rngf_graph_df.xlsx')\n",
    "\n"
   ]
  },
  {
   "cell_type": "markdown",
   "metadata": {},
   "source": [
    "### RNGF Unison Blower Overview"
   ]
  },
  {
   "cell_type": "code",
   "execution_count": null,
   "metadata": {},
   "outputs": [],
   "source": [
    "unison_blower = combined_df[[\n",
    "    'Start Time',\n",
    "    'RNGBLWR-Skid Disch FLOW PV- Loop 9159', # Blower discharge flow (scfm) col F\n",
    "    'RNGBLWR-System Gas Disch PRESS PV- Loop 9158', # blower discharge press (psig) col G\n",
    "    'RNGBLWR-Bstr Blwr 1 Speed FDBK PV- Loop 9145', # unison blower 1 speed (%) col C\n",
    "    'RNGBLWR-Bstr Blwr 2 Speed FDBK PV- Loop 9149', # unison blower 2 speed (%)\n",
    "    'RNGDGTS-Plant compressor Speed- Loop 8964', # Totara speed (rpm) col N\n",
    "]]\n",
    "\n",
    "unison_blower_df = pd.DataFrame(unison_blower)\n",
    "unison_blower_df.columns = [\n",
    "    'date/time',\n",
    "    'Blower discharge flow (scfm)',\n",
    "    'blower discharge press (psig)',\n",
    "    'unison blower 1 speed (%)',\n",
    "    'unison blower 2 speed (%)',\n",
    "    'Totara speed (rpm)'\n",
    "]\n",
    "\n",
    "unison_blower_df.to_excel('unison_blower_df.xlsx')\n"
   ]
  },
  {
   "cell_type": "markdown",
   "metadata": {},
   "source": [
    "### RTO Overview\n"
   ]
  },
  {
   "cell_type": "code",
   "execution_count": null,
   "metadata": {},
   "outputs": [],
   "source": [
    "\n",
    "\n",
    "rto_overview = combined_df[[\n",
    "    'Start Time',\n",
    "    'RNGDGTS-Plant compressor Speed- Loop 8964', # Totara speed (rpm) col N\n",
    "    'RNGRTO-Iso Valve Opened- Loop 9182', # Isolation Valve col V\n",
    "    'RNGRTO-Gas Trtmnt Tail Gas Flow PV- Loop 9105', # RTO inlet flow (scfm) col T\n",
    "    'RNGRTO-Inlet PRESSURE PV- Loop 9181', # RTO inlet pressure (WC) col U\n",
    "    'RNGRTO-Process Air LEL PV- Loop 9180', # RTO LEL (%) col CC\n",
    "]]\n",
    "\n",
    "rto_overview_df = pd.DataFrame(rto_overview)\n",
    "rto_overview_df.columns = [\n",
    "    'date/time',\n",
    "    'Totara speed (rpm)',\n",
    "    'Isolation valve',\n",
    "    'RTO inlet flow (scfm)',\n",
    "    'RTO inlet pressure (WC)',\n",
    "    'RTO LEL (%)'\n",
    "]\n",
    "\n",
    "rto_overview_df.to_excel('rto_overview_df.xlsx')"
   ]
  },
  {
   "cell_type": "markdown",
   "metadata": {},
   "source": [
    "### O2 N2 and H2S"
   ]
  },
  {
   "cell_type": "code",
   "execution_count": null,
   "metadata": {},
   "outputs": [],
   "source": [
    "AIT_500_gases = combined_df[[\n",
    "    'Start Time',\n",
    "    'RNGDGTS-VPSA Stage 1 Running- Loop 9035', # VPSA Status col CW\n",
    "    'RNGDGTS-VPSA1 Product Gas to Flare- Loop 9078', # VPSA to Flare (CV-120) col DB\n",
    "    'RNGDGTS-Biogas Stream O2- Loop 8944', # Biogas O2 col AC\n",
    "    'RNGDGTS-Biomethane Stream O2- Loop 9073', # Product O2 col AH\n",
    "    'RNGDGTS-Biogas Stream N2- Loop 8945', # Biogas N2 col AB\n",
    "    'RNGDGTS-Biomethane Stream N2- Loop 9074', # Product N2\n",
    "    'RNGDGTS-Biogas Stream H2S- Loop 8946', # Biogas H2S col AA\n",
    "    'RNGDGTS-Biomethane Stream H2S- Loop 9076', # Product H2S col AF\n",
    "]]\n",
    "\n",
    "\n",
    "AIT_500_gases_df = pd.DataFrame(AIT_500_gases)\n",
    "AIT_500_gases_df['Totara speed (%)'] = roflo_speed_perc\n",
    "\n",
    "AIT_500_gases_df.columns = [\n",
    "    'date/time',\n",
    "    'VPSA Status',\n",
    "    'VPSA to Flare (CV-120)',\n",
    "    'Biogas O2',\n",
    "    'Product O2',\n",
    "    'Biogas N2',\n",
    "    'Product N2',\n",
    "    'Biogas H2S',\n",
    "    'Product H2S',\n",
    "    'Totara speed (%)',\n",
    "    # \n",
    "]\n",
    "\n",
    "AIT_500_gases_df.to_excel('AIT_500_gases_df.xlsx')"
   ]
  },
  {
   "cell_type": "markdown",
   "metadata": {},
   "source": [
    "### ANGI Compressor"
   ]
  },
  {
   "cell_type": "code",
   "execution_count": null,
   "metadata": {},
   "outputs": [],
   "source": [
    "angi_compressor = combined_df[[\n",
    "    'Start Time',\n",
    "    'RNGCOMP-Stage 1 Inlet Press PV- Loop 9234', # ANGI S1 inlet (psig) col I\n",
    "    # ANGI speed (%) ANGI_speed\n",
    "    # Totara speed (%) roflo_speed_perc\n",
    "    'RNGDGTS-VPSA Stage 1 Running- Loop 9035', # VPSA Status col DE\n",
    "    'RNGDGTS-VPSA1 Product Gas to Flare- Loop 9078', # DGTS to Flare col DF\n",
    "    'RNGCOMP-Stage 2 Final Press PV- Loop 9241', # ANGI S2 discharge (psig) col J\n",
    "    \n",
    "]]\n",
    "\n",
    "roflo_speed_perc\n",
    "ANGI_speed = np.where(combined_df['RNGCOMP-Comp Speed PV- Loop 9250'] > 800, (combined_df['RNGCOMP-Comp Speed PV- Loop 9250'] / 1800) * 100, 0)  \n",
    "\n",
    "angi_compressor_df = pd.DataFrame(angi_compressor)\n",
    "\n",
    "angi_compressor_df['roflo_speed_perc'] = roflo_speed_perc\n",
    "angi_compressor_df['ANGI_speed'] = ANGI_speed\n",
    "\n",
    "angi_compressor_df.columns = [\n",
    "    'date/time',\n",
    "    'ANGI S1 inlet (psig)',\n",
    "    'VPSA status',\n",
    "    'DGTS to flare',\n",
    "    'ANGI S2 discharge',\n",
    "    'roflo speed (%)',\n",
    "    'ANGI speed'\n",
    "]\n",
    "\n",
    "\n",
    "angi_compressor.to_excel('ANGI_compressor_df.xlsx')"
   ]
  },
  {
   "cell_type": "markdown",
   "metadata": {},
   "source": [
    "### Flows"
   ]
  },
  {
   "cell_type": "code",
   "execution_count": null,
   "metadata": {},
   "outputs": [],
   "source": [
    "flows = combined_df[[\n",
    "    'Start Time',\n",
    "    'RNGBLWR-Skid Disch FLOW PV- Loop 9159', # Unison discharge flow (scfm) col F\n",
    "    'RNGDGTS-Boigas Stream Flow- Loop 8940', # Totara inlet (scfm) col K\n",
    "    'RNGDGTS-Gas flow- Loop 9069.1', # DGTS Product gas flow (scfm) col M\n",
    "    'RNGFLARE-Reject Gas to Flare Flow PV- Loop 9316', # Flare flow (scfm)\n",
    "    # Totara speed (%) roflo_speed_perc\n",
    "]]\n",
    "\n",
    "flows_df = pd.DataFrame(flows)\n",
    "flows_df['totara speed (%)'] = roflo_speed_perc\n",
    "\n",
    "flows_df.columns = [\n",
    "    'date/time',\n",
    "    'Unison discharge flow (scfm)',\n",
    "    'Totara inlet (scfm)',\n",
    "    'DGTS product gas flow',\n",
    "    'Flare flow',\n",
    "    'totara speed (%)'\n",
    "]\n",
    "\n",
    "flows_df.to_excel('flows_df.xlsx')"
   ]
  }
 ],
 "metadata": {
  "kernelspec": {
   "display_name": "Python 3",
   "language": "python",
   "name": "python3"
  },
  "language_info": {
   "codemirror_mode": {
    "name": "ipython",
    "version": 3
   },
   "file_extension": ".py",
   "mimetype": "text/x-python",
   "name": "python",
   "nbconvert_exporter": "python",
   "pygments_lexer": "ipython3",
   "version": "3.11.7"
  }
 },
 "nbformat": 4,
 "nbformat_minor": 2
}
