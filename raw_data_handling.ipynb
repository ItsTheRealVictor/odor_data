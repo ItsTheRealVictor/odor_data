{
 "cells": [
  {
   "cell_type": "markdown",
   "metadata": {},
   "source": [
    "### Setting up the raw data handler"
   ]
  },
  {
   "cell_type": "code",
   "execution_count": 11,
   "metadata": {},
   "outputs": [],
   "source": [
    "import openpyxl\n",
    "import datetime as dt\n",
    "def create_raw_data_handler(start_year, start_month, start_day, end_year, end_month, end_day):\n",
    "\n",
    "\n",
    "    excel_file = 'odor_scrubber1_handler.xlsx'\n",
    "\n",
    "    # Open the Excel workbook\n",
    "    wb = openpyxl.load_workbook(f'{excel_file}_blank_template.xlsx')\n",
    "\n",
    "    # Specify the start and end dates using dt.datetime objects\n",
    "    start_date = dt.datetime(year=start_year, month=start_month, day=start_day)  # Change the year, month, and day as needed\n",
    "    end_date = dt.datetime(year=end_year, month=end_month, day=end_day)  # Change the year, month, and day as needed\n",
    "\n",
    "    # Calculate the number of sheets to create\n",
    "    num_sheets = (end_date - start_date).days + 1\n",
    "\n",
    "    # Create sheets for each date in descending order\n",
    "    current_date = end_date\n",
    "    for _ in range(num_sheets):\n",
    "        sheet_name = current_date.strftime('%m.%d')\n",
    "        wb.create_sheet(title=sheet_name)\n",
    "        current_date -= dt.timedelta(days=1)\n",
    "\n",
    "    # Remove the default sheet\n",
    "    default_sheet = wb['Sheet1']\n",
    "    wb.remove(default_sheet)\n",
    "\n",
    "    # Define the values to add to row A1, B1, C1, and D1\n",
    "    header_values = ['date/time', 'column', 'value', 'unit']\n",
    "\n",
    "    # Iterate through all sheets\n",
    "    for sheet in wb.sheetnames:\n",
    "        ws = wb[sheet]\n",
    "        \n",
    "        # Add the header values to row A1, B1, C1, and D1\n",
    "        for col_num, header_value in enumerate(header_values, 1):\n",
    "            cell = ws.cell(row=1, column=col_num)\n",
    "            cell.value = header_value\n",
    "\n",
    "\n",
    "    # Save the modified workbook\n",
    "    wb.save(fr\"C:\\Users\\vdelgado_z\\Desktop\\stuff\\CEPT_storm_analysis\\master_storm_analyzer\\raw_data_pulls\\{excel_file}_{end_date.strftime('%Y.%m.%d')}_{start_date.strftime('%Y.%m.%d')}_raw.xlsx\")"
   ]
  },
  {
   "cell_type": "markdown",
   "metadata": {},
   "source": [
    "### raw data handler maker. Copy the below cell and fill out for all your desired date ranges"
   ]
  },
  {
   "cell_type": "markdown",
   "metadata": {},
   "source": [
    "#### These are tests demonstrating the above code functions as desired"
   ]
  },
  {
   "cell_type": "code",
   "execution_count": 13,
   "metadata": {},
   "outputs": [],
   "source": [
    "end_year = 2023\n",
    "end_month = 11\n",
    "end_day = 7\n",
    "start_year = 2023\n",
    "start_month = 11\n",
    "start_day = 4\n",
    "\n",
    "create_raw_data_handler(\n",
    "    start_year,\n",
    "    start_month,\n",
    "    start_day,\n",
    "    end_year,\n",
    "    end_month,\n",
    "    end_day\n",
    ")"
   ]
  },
  {
   "cell_type": "code",
   "execution_count": 14,
   "metadata": {},
   "outputs": [],
   "source": [
    "end_year = 2023\n",
    "end_month = 11\n",
    "end_day = 2\n",
    "start_year = 2023\n",
    "start_month = 10\n",
    "start_day = 30\n",
    "\n",
    "create_raw_data_handler(\n",
    "    start_year,\n",
    "    start_month,\n",
    "    start_day,\n",
    "    end_year,\n",
    "    end_month,\n",
    "    end_day\n",
    ")"
   ]
  },
  {
   "cell_type": "code",
   "execution_count": 15,
   "metadata": {},
   "outputs": [],
   "source": [
    "end_year = 2023\n",
    "end_month = 10\n",
    "end_day = 26\n",
    "start_year = 2023\n",
    "start_month = 10\n",
    "start_day = 23\n",
    "\n",
    "create_raw_data_handler(\n",
    "    start_year,\n",
    "    start_month,\n",
    "    start_day,\n",
    "    end_year,\n",
    "    end_month,\n",
    "    end_day\n",
    ")"
   ]
  },
  {
   "cell_type": "code",
   "execution_count": 16,
   "metadata": {},
   "outputs": [],
   "source": [
    "end_year = 2024\n",
    "end_month = 1\n",
    "end_day = 28\n",
    "start_year = 2024\n",
    "start_month = 1\n",
    "start_day = 15\n",
    "\n",
    "create_raw_data_handler(\n",
    "    start_year,\n",
    "    start_month,\n",
    "    start_day,\n",
    "    end_year,\n",
    "    end_month,\n",
    "    end_day\n",
    ")"
   ]
  }
 ],
 "metadata": {
  "kernelspec": {
   "display_name": "Python 3",
   "language": "python",
   "name": "python3"
  },
  "language_info": {
   "codemirror_mode": {
    "name": "ipython",
    "version": 3
   },
   "file_extension": ".py",
   "mimetype": "text/x-python",
   "name": "python",
   "nbconvert_exporter": "python",
   "pygments_lexer": "ipython3",
   "version": "3.11.7"
  }
 },
 "nbformat": 4,
 "nbformat_minor": 2
}
